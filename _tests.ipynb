{
 "cells": [
  {
   "cell_type": "code",
   "execution_count": 1,
   "metadata": {},
   "outputs": [],
   "source": [
    "# Import necessary modules\n",
    "import sys\n",
    "import os\n",
    "\n",
    "# Ensure the current directory (root folder) is in the Python module path\n",
    "sys.path.append(os.getcwd())\n",
    "\n",
    "import matplotlib.pyplot as plt\n",
    "import pytest\n",
    "\n",
    "from tests.unit.maze_dataset.generation.test_custom_endpoints import _get_example_maze\n",
    "from maze_dataset.maze.lattice_maze import NoValidEndpointException"
   ]
  },
  {
   "cell_type": "code",
   "execution_count": 2,
   "metadata": {},
   "outputs": [
    {
     "data": {
      "text/plain": [
       "<matplotlib.image.AxesImage at 0x15aed68f0>"
      ]
     },
     "execution_count": 2,
     "metadata": {},
     "output_type": "execute_result"
    },
    {
     "data": {
      "image/png": "[encoded data removed]",
      "text/plain": [
       "<Figure size 640x480 with 1 Axes>"
      ]
     },
     "metadata": {},
     "output_type": "display_data"
    }
   ],
   "source": [
    "maze = _get_example_maze()\n",
    "plt.imshow(maze.as_pixels())"
   ]
  },
  {
   "cell_type": "code",
   "execution_count": 3,
   "metadata": {},
   "outputs": [],
   "source": [
    "# Test \n",
    "with pytest.raises(NoValidEndpointException):\n",
    "    maze.generate_random_path(allowed_start=[(2, 2)])\n",
    "\n",
    "with pytest.raises(NoValidEndpointException):\n",
    "    maze.generate_random_path(allowed_end=[(2, 2)])"
   ]
  }
 ],
 "metadata": {
  "kernelspec": {
   "display_name": ".venv",
   "language": "python",
   "name": "python3"
  },
  "language_info": {
   "codemirror_mode": {
    "name": "ipython",
    "version": 3
   },
   "file_extension": ".py",
   "mimetype": "text/x-python",
   "name": "python",
   "nbconvert_exporter": "python",
   "pygments_lexer": "ipython3",
   "version": "3.10.11"
  }
 },
 "nbformat": 4,
 "nbformat_minor": 2
}
