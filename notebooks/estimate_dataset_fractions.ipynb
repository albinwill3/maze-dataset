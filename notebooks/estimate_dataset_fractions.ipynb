{
 "cells": [
  {
   "cell_type": "code",
   "execution_count": null,
   "metadata": {},
   "outputs": [],
   "source": [
    "from pathlib import Path\n",
    "\n",
    "from pysr import PySRRegressor\n",
    "\n",
    "# pysr before others, since it has to be before torch?\n",
    "from jaxtyping import Float\n",
    "import numpy as np\n",
    "from zanj import ZANJ\n",
    "\n",
    "from maze_dataset import MazeDatasetConfig\n",
    "from maze_dataset.generation import LatticeMazeGenerators\n",
    "from maze_dataset.benchmark.config_sweep import (\n",
    "    SweepResult,\n",
    "    full_percolation_analysis,\n",
    "    dataset_success_fraction,\n",
    "    plot_grouped,\n",
    ")"
   ]
  },
  {
   "cell_type": "code",
   "execution_count": null,
   "metadata": {},
   "outputs": [],
   "source": [
    "# magic auto-reload\n",
    "%load_ext autoreload\n",
    "%autoreload"
   ]
  },
  {
   "cell_type": "code",
   "execution_count": null,
   "metadata": {},
   "outputs": [],
   "source": [
    "# Run the analysis\n",
    "results: SweepResult = SweepResult.analyze(\n",
    "    configs=[\n",
    "        MazeDatasetConfig(\n",
    "            name=f\"g{grid_n}-perc\",\n",
    "            grid_n=grid_n,\n",
    "            n_mazes=32,\n",
    "            maze_ctor=LatticeMazeGenerators.gen_percolation,\n",
    "            maze_ctor_kwargs=dict(),\n",
    "            endpoint_kwargs=dict(\n",
    "                deadend_start=False,\n",
    "                deadend_end=False,\n",
    "                endpoints_not_equal=False,\n",
    "                except_on_no_valid_endpoint=False,\n",
    "            ),\n",
    "        )\n",
    "        for grid_n in [2, 4, 6]\n",
    "    ],\n",
    "    param_values=np.linspace(0.0, 1.0, 16).tolist(),\n",
    "    param_key=\"maze_ctor_kwargs.p\",\n",
    "    analyze_func=dataset_success_fraction,\n",
    "    parallel=False,\n",
    ")\n",
    "\n",
    "# Plot results\n",
    "results.plot(save_path=None, cfg_keys=[\"n_mazes\", \"endpoint_kwargs\"])"
   ]
  },
  {
   "cell_type": "code",
   "execution_count": null,
   "metadata": {},
   "outputs": [],
   "source": [
    "path = Path(\"../tests/_temp/dataset_frac_sweep/results_small.zanj\")\n",
    "results.save(path)\n",
    "ZANJ().read(path).plot(cfg_keys=[\"n_mazes\", \"endpoint_kwargs\"])"
   ]
  },
  {
   "cell_type": "code",
   "execution_count": null,
   "metadata": {},
   "outputs": [],
   "source": [
    "results_full: SweepResult = full_percolation_analysis(\n",
    "    n_mazes=16,\n",
    "    p_val_count=16,\n",
    "    grid_sizes=[2, 4, 6],\n",
    "    parallel=False,\n",
    ")"
   ]
  },
  {
   "cell_type": "code",
   "execution_count": null,
   "metadata": {},
   "outputs": [],
   "source": [
    "plot_grouped(results_full)"
   ]
  },
  {
   "cell_type": "code",
   "execution_count": null,
   "metadata": {},
   "outputs": [],
   "source": [
    "def extract_training_data(\n",
    "    sweep_result: SweepResult,\n",
    ") -> tuple[Float[np.ndarray, \"num_rows 5\"], Float[np.ndarray, \" num_rows\"]]:\n",
    "    \"\"\"Extract data (X, y) from a SweepResult.\n",
    "\n",
    "    # Parameters:\n",
    "     - `sweep_result : SweepResult`\n",
    "        The sweep result holding configs and success arrays.\n",
    "\n",
    "    # Returns:\n",
    "     - `X : Float[np.ndarray, \"num_rows 5\"]`\n",
    "        Stacked [p, grid_n, deadends, endpoints_not_equal, generator_func] for each config & param-value\n",
    "     - `y : Float[np.ndarray, \"num_rows\"]`\n",
    "        The corresponding success rate\n",
    "    \"\"\"\n",
    "    X_list: list[list[float]] = []\n",
    "    y_list: list[float] = []\n",
    "    for cfg in sweep_result.configs:\n",
    "        # success_arr is an array of success rates for param_values\n",
    "        success_arr = sweep_result.result_values[cfg.to_fname()]\n",
    "        for i, p in enumerate(sweep_result.param_values):\n",
    "            # Temporarily override p in the config's array representation:\n",
    "            arr = cfg._to_ps_array().copy()\n",
    "            arr[0] = p  # index 0 is 'p'\n",
    "            X_list.append(arr)\n",
    "            y_list.append(success_arr[i])\n",
    "\n",
    "    return np.array(X_list, dtype=np.float64), np.array(y_list, dtype=np.float64)"
   ]
  },
  {
   "cell_type": "code",
   "execution_count": null,
   "metadata": {},
   "outputs": [],
   "source": [
    "\n",
    "# RESULTS_LOADED: SweepResult = SweepResult.read(\"../docs/benchmarks/percolation_fractions/medium/result-n128-c42-p50.zanj\")\n",
    "RESULTS_LOADED: SweepResult = SweepResult.read(\"../docs/benchmarks/percolation_fractions/small/result-n64-c30-p25.zanj\")\n",
    "# RESULTS_LOADED: SweepResult = SweepResult.read(\"../docs/benchmarks/percolation_fractions/test/result-n16-c12-p16.zanj\")\n",
    "\n",
    "# Convert to arrays\n",
    "X, y = extract_training_data(RESULTS_LOADED)\n",
    "\n",
    "# Fit the PySR model\n",
    "model = PySRRegressor(\n",
    "    niterations=100,\n",
    "    # Adjust operators as needed\n",
    "    unary_operators=[\n",
    "\t\t\"exp\",\n",
    "\t\t\"log\",\n",
    "        \"square(x) = x^2\",\n",
    "        \"cube(x) = x^3\",\n",
    "        \"sigmoid(x) = 1/(1 + exp(-x))\",\n",
    "    ],\n",
    "    binary_operators=[\"+\", \"-\", \"*\", \"/\"],\n",
    "    # If you want advanced features, specify them here:\n",
    "    # e.g. select_k_features=4, population_size=1000, etc.\n",
    "    progress=True,\n",
    "    model_selection=\"best\",\n",
    ")\n",
    "model.fit(X, y)\n",
    "\n"
   ]
  },
  {
   "cell_type": "code",
   "execution_count": null,
   "metadata": {},
   "outputs": [],
   "source": [
    "\n",
    "\n",
    "# Create a callable that predicts from MazeDatasetConfig\n",
    "predict_fn = model.get_best()[\"lambda_format\"]\n",
    "print(f\"Best PySR Equation: {model.get_best()['equation'] = }\")\n",
    "print(f\"{predict_fn =}\")\n",
    "\n",
    "def predict_config(cfg: MazeDatasetConfig) -> float:\n",
    "    arr = cfg._to_ps_array()\n",
    "    result = predict_fn(arr)[0]\n",
    "    return float(result)  # pass the array as separate args\n",
    "\n",
    "# Example new config\n",
    "test_config = MazeDatasetConfig(\n",
    "    name=\"some_test\",\n",
    "    grid_n=16,\n",
    "    n_mazes=100,\n",
    "    maze_ctor=LatticeMazeGenerators.gen_percolation,\n",
    "    maze_ctor_kwargs={\"p\": 0.3},\n",
    "    endpoint_kwargs={\n",
    "        \"deadend_start\": True,\n",
    "        \"deadend_end\": True,\n",
    "        \"endpoints_not_equal\": True,\n",
    "        \"except_on_no_valid_endpoint\": False,\n",
    "    },\n",
    ")\n",
    "predicted_rate = predict_config(test_config)\n",
    "print(\"Best PySR Equation:\", model.get_best()[\"equation\"])\n",
    "print(\"Predicted success rate for test_config:\", predicted_rate)\n",
    "\n",
    "\n",
    "plot_grouped(RESULTS_LOADED, predict_fn=predict_config)"
   ]
  }
 ],
 "metadata": {
  "kernelspec": {
   "display_name": ".venv",
   "language": "python",
   "name": "python3"
  },
  "language_info": {
   "codemirror_mode": {
    "name": "ipython",
    "version": 3
   },
   "file_extension": ".py",
   "mimetype": "text/x-python",
   "name": "python",
   "nbconvert_exporter": "python",
   "pygments_lexer": "ipython3",
   "version": "3.12.0"
  }
 },
 "nbformat": 4,
 "nbformat_minor": 2
}
