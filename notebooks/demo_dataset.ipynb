{
 "cells": [
  {
   "attachments": {},
   "cell_type": "markdown",
   "metadata": {},
   "source": [
    "# Basics\n",
    "\n",
    "to start, let's import a few things we'll need:"
   ]
  },
  {
   "cell_type": "code",
   "execution_count": null,
   "metadata": {},
   "outputs": [],
   "source": [
    "# other package imports\n",
    "import matplotlib.pyplot as plt  # keep this import for CI to work\n",
    "from zanj import ZANJ  # saving/loading data\n",
    "from muutils.mlutils import pprint_summary  # pretty printing as json\n",
    "\n",
    "# maze_dataset imports\n",
    "from maze_dataset import LatticeMaze, SolvedMaze, MazeDataset, MazeDatasetConfig\n",
    "from maze_dataset.generation import LatticeMazeGenerators, GENERATORS_MAP\n",
    "from maze_dataset.generation.default_generators import DEFAULT_GENERATORS\n",
    "from maze_dataset.dataset.configs import MAZE_DATASET_CONFIGS\n",
    "from maze_dataset.plotting import plot_dataset_mazes, print_dataset_mazes\n",
    "\n",
    "# check the configs\n",
    "print(MAZE_DATASET_CONFIGS.keys())\n",
    "# for saving/loading things\n",
    "LOCAL_DATA_PATH: str = \"../data/maze_dataset/\"\n",
    "zanj: ZANJ = ZANJ(external_list_threshold=256)"
   ]
  },
  {
   "attachments": {},
   "cell_type": "markdown",
   "metadata": {},
   "source": [
    "You should always see `test-g3-n5-a_dfs-h9136` in the list of available dataset configs above.\n",
    "\n",
    "Now, let's set up our initial config and dataset:"
   ]
  },
  {
   "cell_type": "code",
   "execution_count": null,
   "metadata": {},
   "outputs": [],
   "source": [
    "cfg: MazeDatasetConfig = MazeDatasetConfig(\n",
    "    name=\"test\",  # name is only for you to keep track of things\n",
    "    grid_n=5,  # number of rows/columns in the lattice\n",
    "    n_mazes=4,  # number of mazes to generate\n",
    "    maze_ctor=LatticeMazeGenerators.gen_dfs,  # algorithm to generate the maze\n",
    "    # there are a few more arguments here, to be discussed later\n",
    ")\n",
    "\n",
    "# each config will use this function to get the name of the dataset\n",
    "# it contains some basic info about the algorithm, size, and number of mazes\n",
    "# at the end after \"h\" is a stable hash of the config to avoid collisions\n",
    "print(cfg.to_fname())"
   ]
  },
  {
   "cell_type": "code",
   "execution_count": null,
   "metadata": {},
   "outputs": [],
   "source": [
    "# to create a dataset, just call MazeDataset.from_config\n",
    "dataset: MazeDataset = MazeDataset.from_config(\n",
    "    # your config\n",
    "    cfg,\n",
    "    # and all this below is completely optional\n",
    "    do_download=False,\n",
    "    load_local=False,\n",
    "    do_generate=True,\n",
    "    save_local=True,\n",
    "    local_base_path=LOCAL_DATA_PATH,\n",
    "    verbose=True,\n",
    "    zanj=zanj,\n",
    "    gen_parallel=False,  # parallel generation has overhead, not worth it unless you're doing a lot of mazes\n",
    ")"
   ]
  },
  {
   "attachments": {},
   "cell_type": "markdown",
   "metadata": {},
   "source": [
    "now that we have our dataset, let's take a look at it!"
   ]
  },
  {
   "cell_type": "code",
   "execution_count": null,
   "metadata": {},
   "outputs": [],
   "source": [
    "plot_dataset_mazes(\n",
    "    dataset, count=None\n",
    ")  # for large datasets, set the count to some int to just plot the first few"
   ]
  },
  {
   "attachments": {},
   "cell_type": "markdown",
   "metadata": {},
   "source": [
    "# Filtering\n",
    "\n",
    "you can also filter datasets by a variety of parameters:"
   ]
  },
  {
   "cell_type": "code",
   "execution_count": null,
   "metadata": {},
   "outputs": [],
   "source": [
    "dataset_filtered: MazeDataset = dataset.filter_by.path_length(min_length=3)\n",
    "\n",
    "print(f\"{len(dataset) = }\")\n",
    "print(f\"{len(dataset_filtered) = }\")"
   ]
  },
  {
   "cell_type": "code",
   "execution_count": null,
   "metadata": {},
   "outputs": [],
   "source": [
    "plot_dataset_mazes(dataset_filtered)"
   ]
  },
  {
   "cell_type": "code",
   "execution_count": null,
   "metadata": {},
   "outputs": [],
   "source": [
    "pprint_summary(dataset_filtered.cfg.serialize()[\"applied_filters\"])\n",
    "print(f\"{MazeDataset._FILTER_NAMESPACE = }\")"
   ]
  },
  {
   "cell_type": "code",
   "execution_count": null,
   "metadata": {},
   "outputs": [],
   "source": [
    "# filters can also be specified at generation time -- but it will still generate the whole dataset and then filter it\n",
    "\n",
    "dataset_filtered_from_scratch: MazeDataset = MazeDataset.from_config(\n",
    "    dataset_filtered.cfg,\n",
    "    do_download=False,\n",
    "    load_local=False,\n",
    "    do_generate=True,\n",
    "    save_local=False,\n",
    "    local_base_path=LOCAL_DATA_PATH,\n",
    "    verbose=True,\n",
    "    zanj=zanj,\n",
    "    gen_parallel=False,\n",
    ")"
   ]
  },
  {
   "cell_type": "code",
   "execution_count": null,
   "metadata": {},
   "outputs": [],
   "source": [
    "plot_dataset_mazes(dataset_filtered_from_scratch)\n",
    "dataset_filtered_nodupe = dataset_filtered_from_scratch.filter_by.remove_duplicates()\n",
    "plot_dataset_mazes(dataset_filtered_nodupe)"
   ]
  },
  {
   "cell_type": "code",
   "execution_count": null,
   "metadata": {},
   "outputs": [],
   "source": [
    "dataset_filtered_custom: MazeDataset = dataset.custom_maze_filter(\n",
    "    lambda m, p: len(m.solution) == p,\n",
    "    p=5,\n",
    ")\n",
    "plot_dataset_mazes(dataset)\n",
    "plot_dataset_mazes(dataset_filtered_custom)"
   ]
  },
  {
   "attachments": {},
   "cell_type": "markdown",
   "metadata": {},
   "source": [
    "## metadata\n",
    "\n",
    "by default, each maze stores some metadata about generation in a dictionary. if you don't care about this, you can filter it out (but keep some statistics) to save on storage space:"
   ]
  },
  {
   "cell_type": "code",
   "execution_count": null,
   "metadata": {},
   "outputs": [],
   "source": [
    "dataset_with_meta = dataset.filter_by.collect_generation_meta()\n",
    "metadata = dataset_with_meta.serialize()[\"generation_metadata_collected\"]\n",
    "metadata[\"visited_cells\"] = \"...\"  # this is a huge list and unweildy to print\n",
    "pprint_summary(metadata)"
   ]
  },
  {
   "attachments": {},
   "cell_type": "markdown",
   "metadata": {},
   "source": [
    "# output formats"
   ]
  },
  {
   "cell_type": "code",
   "execution_count": null,
   "metadata": {},
   "outputs": [],
   "source": [
    "from maze_dataset.plotting import MazePlot\n",
    "from maze_dataset.tokenization import MazeTokenizer, TokenizationMode\n",
    "from maze_dataset.plotting.print_tokens import (\n",
    "    display_color_maze_tokens_AOTP,\n",
    "    color_maze_tokens_AOTP,\n",
    ")\n",
    "from maze_dataset.dataset.rasterized import process_maze_rasterized_input_target\n",
    "\n",
    "maze: SolvedMaze = dataset[0]\n",
    "\n",
    "# as pixels (what you've already seen)\n",
    "plt.imshow(maze.as_pixels())\n",
    "\n",
    "# as ascii (useful for debugging)\n",
    "print(\"ASCII:\\n\")\n",
    "print(maze.as_ascii())\n",
    "\n",
    "# as e2h style input/target\n",
    "input, target = process_maze_rasterized_input_target(maze)\n",
    "fig, ax = plt.subplots(1, 2)\n",
    "ax[0].imshow(input)\n",
    "ax[1].imshow(target)\n",
    "# remove ticks\n",
    "for a in ax:\n",
    "    a.set_xticks([])\n",
    "    a.set_yticks([])\n",
    "plt.show()\n",
    "\n",
    "\n",
    "# as a MazePlot\n",
    "MazePlot(maze).plot()\n",
    "\n",
    "# as tokens\n",
    "\n",
    "# first, initialize a tokenizer -- more about this in the `notebooks/demo_tokenization.ipynb` notebook\n",
    "tokenizer: MazeTokenizer = MazeTokenizer(\n",
    "    tokenization_mode=TokenizationMode.AOTP_UT_rasterized, max_grid_size=100\n",
    ")\n",
    "maze_tok = maze.as_tokens(maze_tokenizer=tokenizer)\n",
    "\n",
    "# you can view the tokens directly\n",
    "print(\"\\nRaw tokens:\\n\")\n",
    "print(\" \".join(maze_tok))\n",
    "\n",
    "# or color and print them in various formats\n",
    "print(\"\\nColored tokens, raw html:\\n\")\n",
    "print(color_maze_tokens_AOTP(maze_tok, fmt=\"html\"))\n",
    "print(\"\\nColored tokens, raw latex:\\n\")\n",
    "print(color_maze_tokens_AOTP(maze_tok, fmt=\"latex\"))\n",
    "print(\"\\nColored tokens, terminal:\\n\")\n",
    "print(color_maze_tokens_AOTP(maze_tok, fmt=\"terminal\"))\n",
    "\n",
    "display_color_maze_tokens_AOTP(maze_tok)"
   ]
  },
  {
   "cell_type": "markdown",
   "metadata": {},
   "source": [
    "# endpoint options"
   ]
  },
  {
   "cell_type": "code",
   "execution_count": null,
   "metadata": {},
   "outputs": [],
   "source": [
    "for endpoint_kwargs in [\n",
    "    dict(),\n",
    "    dict(allowed_start=[(0, 0)]),\n",
    "    dict(allowed_end=[(2, 2)]),\n",
    "    dict(allowed_start=[(0, 1), (0, 2), (0, 3)]),\n",
    "    dict(allowed_start=[(0, 0)], allowed_end=[(4, 4)]),\n",
    "    dict(deadend_start=True),\n",
    "    dict(deadend_end=True),\n",
    "    dict(deadend_start=True, deadend_end=True),\n",
    "]:\n",
    "    d = MazeDataset.from_config(\n",
    "        MazeDatasetConfig(\n",
    "            name=\"endpoint-test\",\n",
    "            grid_n=5,\n",
    "            n_mazes=4,\n",
    "            maze_ctor=LatticeMazeGenerators.gen_dfs,\n",
    "            endpoint_kwargs=endpoint_kwargs,\n",
    "        ),\n",
    "        verbose=True,\n",
    "    )\n",
    "\n",
    "    plot_dataset_mazes(d, title=str(endpoint_kwargs))"
   ]
  },
  {
   "attachments": {},
   "cell_type": "markdown",
   "metadata": {},
   "source": [
    "# more algorithms\n",
    "\n",
    "there are a bunch of algorithms included, some with various parameters. Here's a few:"
   ]
  },
  {
   "cell_type": "code",
   "execution_count": null,
   "metadata": {},
   "outputs": [],
   "source": [
    "DATASETS: dict[int, list[MazeDataset]] = dict()\n",
    "for grid_n in [4, 8]:\n",
    "    DATASETS[grid_n] = list()\n",
    "    for gen_name, gen_kwargs in DEFAULT_GENERATORS:\n",
    "        print(f\"Generating {gen_name} for grid_n={grid_n}\")\n",
    "        DATASETS[grid_n].append(\n",
    "            MazeDataset.from_config(\n",
    "                MazeDatasetConfig(\n",
    "                    name=\"demo\",\n",
    "                    maze_ctor=GENERATORS_MAP[gen_name],\n",
    "                    grid_n=grid_n,\n",
    "                    n_mazes=8,\n",
    "                    maze_ctor_kwargs=gen_kwargs,\n",
    "                ),\n",
    "                local_base_path=LOCAL_DATA_PATH,\n",
    "                load_local=False,\n",
    "                verbose=False,\n",
    "                zanj=zanj,\n",
    "            )\n",
    "        )"
   ]
  },
  {
   "cell_type": "code",
   "execution_count": null,
   "metadata": {},
   "outputs": [],
   "source": [
    "for g, ds_list in DATASETS.items():\n",
    "    for ds in ds_list:\n",
    "        plot_dataset_mazes(ds, figsize_mult=(2, 4))"
   ]
  }
 ],
 "metadata": {
  "kernelspec": {
   "display_name": "maze-dataset-K69OfPxp-py3.10",
   "language": "python",
   "name": "python3"
  },
  "language_info": {
   "codemirror_mode": {
    "name": "ipython",
    "version": 3
   },
   "file_extension": ".py",
   "mimetype": "text/x-python",
   "name": "python",
   "nbconvert_exporter": "python",
   "pygments_lexer": "ipython3",
   "version": "3.11.4"
  },
  "orig_nbformat": 4
 },
 "nbformat": 4,
 "nbformat_minor": 2
}
