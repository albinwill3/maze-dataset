{
 "cells": [
  {
   "cell_type": "markdown",
   "metadata": {},
   "source": [
    "# Imports"
   ]
  },
  {
   "cell_type": "code",
   "execution_count": 1,
   "metadata": {},
   "outputs": [],
   "source": [
    "import pandas as pd\n",
    "import matplotlib.pyplot as plt\n",
    "from typing import Callable, Any\n",
    "import json\n",
    "\n",
    "import yaml\n",
    "from muutils.errormode import ErrorMode\n",
    "\n",
    "from maze_dataset.tokenization import (\n",
    "    MazeTokenizerModular,\n",
    "    TokenizerElement,\n",
    "    MazeTokenizer,\n",
    "    TokenizationMode,\n",
    "    CoordTokenizers,\n",
    "    PromptSequencers,\n",
    ")\n",
    "\n",
    "import maze_dataset.tokenization as md_tokenization\n",
    "\n",
    "from maze_dataset import (\n",
    "    VOCAB,\n",
    "    VOCAB_LIST,\n",
    "    VOCAB_TOKEN_TO_INDEX,\n",
    "    LatticeMazeGenerators,\n",
    "    MazeDataset,\n",
    "    MazeDatasetConfig,\n",
    ")\n",
    "\n",
    "from maze_dataset.plotting import MazePlot\n",
    "\n",
    "from maze_dataset.util import equal_except_adj_list_sequence"
   ]
  },
  {
   "cell_type": "code",
   "execution_count": 2,
   "metadata": {},
   "outputs": [],
   "source": [
    "# magic autoreload\n",
    "%load_ext autoreload\n",
    "%autoreload 2"
   ]
  },
  {
   "cell_type": "markdown",
   "metadata": {},
   "source": [
    "# `MazeTokenizerModular` Initialization\n",
    "\n",
    "Most of the API for these tokenizers is contained in the `MazeTokenizerModular` class. The only time when users need to interact with the internal components of a `MazeTokenizerModular` is when initializing a non-default tokenizer."
   ]
  },
  {
   "cell_type": "code",
   "execution_count": 3,
   "metadata": {},
   "outputs": [],
   "source": [
    "mt_default: MazeTokenizerModular = MazeTokenizerModular()\n",
    "mt_ctt: MazeTokenizerModular = MazeTokenizerModular.from_legacy(TokenizationMode.AOTP_CTT_indexed)\n",
    "# mt_default, mt_ctt"
   ]
  },
  {
   "cell_type": "markdown",
   "metadata": {},
   "source": [
    "The internal components of `MazeTokenizerModular` are all instances of `TokenizerElement`."
   ]
  },
  {
   "cell_type": "code",
   "execution_count": 4,
   "metadata": {},
   "outputs": [
    {
     "name": "stdout",
     "output_type": "stream",
     "text": [
      "<class 'maze_dataset.tokenization.maze_tokenizer.CoordTokenizers._CoordTokenizer'>\n",
      "<class 'maze_dataset.tokenization.maze_tokenizer.EdgeGroupings._EdgeGrouping'>\n",
      "<class 'maze_dataset.tokenization.maze_tokenizer.EdgePermuters._EdgePermuter'>\n",
      "<class 'maze_dataset.tokenization.maze_tokenizer.EdgeSubsets._EdgeSubset'>\n",
      "<class 'maze_dataset.tokenization.maze_tokenizer.AdjListTokenizers._AdjListTokenizer'>\n",
      "<class 'maze_dataset.tokenization.maze_tokenizer.TargetTokenizers._TargetTokenizer'>\n",
      "<class 'maze_dataset.tokenization.maze_tokenizer.StepSizes._StepSize'>\n",
      "<class 'maze_dataset.tokenization.maze_tokenizer.StepTokenizers._StepTokenizer'>\n",
      "<class 'maze_dataset.tokenization.maze_tokenizer.PathTokenizers._PathTokenizer'>\n",
      "<class 'maze_dataset.tokenization.maze_tokenizer.PromptSequencers._PromptSequencer'>\n",
      "\n",
      "AOTP TokenizerElement Structure:\n",
      "\n",
      "MazeTokenizerModular\n",
      "\t_PromptSequencer\n",
      "\t\t_CoordTokenizer\n",
      "\t\t_AdjListTokenizer\n",
      "\t\t\t_EdgeGrouping\n",
      "\t\t\t_EdgeSubset\n",
      "\t\t\t_EdgePermuter\n",
      "\t\t_TargetTokenizer\n",
      "\t\t_PathTokenizer\n",
      "\t\t\t_StepSize\n",
      "\t\t\t_StepTokenizer\n",
      "\n",
      "Default tokenizer elements:\n",
      "\n",
      "MazeTokenizerModular\n",
      "\tAOTP\n",
      "\t\tUT\n",
      "\t\tAdjListCoord\n",
      "\t\t\tUngrouped\n",
      "\t\t\tConnectionEdges\n",
      "\t\t\tRandomCoords\n",
      "\t\tUnlabeled\n",
      "\t\tStepSequence\n",
      "\t\t\tSingles\n",
      "\t\t\tCoord\n",
      "\n",
      "MazeTokenizerModular:\n",
      "  AOTP:\n",
      "    adj_list_tokenizer:\n",
      "      AdjListCoord:\n",
      "        edge_grouping:\n",
      "          Ungrouped:\n",
      "            connection_token_ordinal: 1\n",
      "        edge_permuter:\n",
      "          RandomCoords: {}\n",
      "        edge_subset:\n",
      "          ConnectionEdges:\n",
      "            walls: false\n",
      "        post: true\n",
      "        pre: false\n",
      "        shuffle_d0: true\n",
      "    coord_tokenizer:\n",
      "      UT: {}\n",
      "    path_tokenizer:\n",
      "      StepSequence:\n",
      "        intra: false\n",
      "        post: false\n",
      "        pre: false\n",
      "        step_size:\n",
      "          Singles: {}\n",
      "        step_tokenizers:\n",
      "        - Coord: {}\n",
      "    target_tokenizer:\n",
      "      Unlabeled:\n",
      "        post: false\n",
      "\n"
     ]
    }
   ],
   "source": [
    "print(\"\\n\".join([str(elem) for elem in TokenizerElement.__subclasses__()]))\n",
    "\n",
    "print('\\nAOTP TokenizerElement Structure:\\n')\n",
    "print(mt_default.tokenizer_element_tree(abstract=True))\n",
    "print(f'Default tokenizer elements:\\n')\n",
    "print(mt_default.tokenizer_element_tree())\n",
    "print(yaml.dump(mt_default.tokenizer_element_dict()))"
   ]
  },
  {
   "cell_type": "markdown",
   "metadata": {},
   "source": [
    "There are currently no other constructor methods. To construct a `MazeTokenizerModular` with other `TokenizerElement`s besides those available via `from_legacy`, the standard constructor with all parent `TokenizerElement`s in the tree must be used. Some `TokenizerElement`s also contain their own initialization arguments, most of which are `boolean`-typed. The most common arguments across all `TokenizerElement`s are named `pre`, `intra`, and `post`, which all control the option to add delimiter tokens to that part of the output. Other args are more specialized; see the class docstrings for more details."
   ]
  },
  {
   "cell_type": "markdown",
   "metadata": {},
   "source": [
    "# Vocabulary\n",
    "\n",
    "All instances of `MazeTokenizerModular` uses a static vocabulary `VOCAB`, which is one of the main functional differences from `MazeTokenizer`. Direct access to the static vocabulary can be made through 3 constants:\n",
    "- `VOCAB`\n",
    "  - Extension of the `SPECIAL_TOKENS` dataclass\n",
    "  - Supports direct property attribution\n",
    "- `VOCAB_LIST: list[str]`\n",
    "  - Contains the vocabulary in a list\n",
    "  - Index of a token is its unique ID\n",
    "- `VOCAB_TOKEN_TO_INDEX: dict[str, int]`\n",
    "  - Inverse mapping of `VOCAB_LIST`, maps tokens to unique IDs\n",
    "\n",
    "The following shows a visualizaiton of the first 5 elements of each constant."
   ]
  },
  {
   "cell_type": "code",
   "execution_count": 5,
   "metadata": {},
   "outputs": [
    {
     "name": "stdout",
     "output_type": "stream",
     "text": [
      "`VOCAB`: type\n",
      "\tVOCAB.ADJLIST_START = '<ADJLIST_START>'\n",
      "\tVOCAB.ADJLIST_END = '<ADJLIST_END>'\n",
      "\tVOCAB.TARGET_START = '<TARGET_START>'\n",
      "\tVOCAB.TARGET_END = '<TARGET_END>'\n",
      "\tVOCAB.ORIGIN_START = '<ORIGIN_START>'\n",
      "\t...\n",
      "\n",
      "`VOCAB_LIST`: list[str]\n",
      "\t'<ADJLIST_START>'\n",
      "\t'<ADJLIST_END>'\n",
      "\t'<TARGET_START>'\n",
      "\t'<TARGET_END>'\n",
      "\t'<ORIGIN_START>'\n",
      "\t...\n",
      "\n",
      "`VOCAB_TOKEN_TO_INDEX`: dict[str, int]\n",
      "\t'<ADJLIST_START>':   \t0\n",
      "\t'<ADJLIST_END>':   \t1\n",
      "\t'<TARGET_START>':   \t2\n",
      "\t'<TARGET_END>':   \t3\n",
      "\t'<ORIGIN_START>':   \t4\n",
      "\t...\n"
     ]
    }
   ],
   "source": [
    "print(\"`VOCAB`: type\")\n",
    "for i, t in enumerate(VOCAB):\n",
    "    if i >= 5: break\n",
    "    print(f\"\\tVOCAB.{t} = '{getattr(VOCAB, t)}'\")\n",
    "print('\\t...')\n",
    "\n",
    "print(\"\\n`VOCAB_LIST`: list[str]\")\n",
    "for t in VOCAB_LIST[:5]:\n",
    "    print(f\"\\t'{t}'\")\n",
    "print('\\t...')\n",
    "    \n",
    "print(\"\\n`VOCAB_TOKEN_TO_INDEX`: dict[str, int]\")\n",
    "for t in VOCAB_TOKEN_TO_INDEX:\n",
    "    if VOCAB_TOKEN_TO_INDEX[t] >= 5: break\n",
    "    print(f\"\\t'{t}':   \\t{VOCAB_TOKEN_TO_INDEX[t]}\")\n",
    "print('\\t...')\n"
   ]
  },
  {
   "cell_type": "markdown",
   "metadata": {},
   "source": [
    "### Considerations of Static Vocabulary\n",
    "\n",
    "- No more rasterized vs uniform indexing, it's all fixed as uniform now\n",
    "- Fixed max grid size\n",
    "  - There is now a fixed maximum maze size which is supported.\n",
    "  - Unique tokens (`CoordTokenizers.UT`): 50x50\n",
    "  - Coordinate tuple tokens (`CoordTokenizers.CTT`): 128x128\n",
    "  - Mazes larger than these sizes are not supported\n",
    "  - There should be fewer compatibility issues with tokenizers using different `max_grid_size` parameters\n",
    "- Vocabulary access\n",
    "  - Since maze-dataset 1.0, there is no need to pass around a tokenizer object or any data structure to access its custom vocabulary"
   ]
  },
  {
   "cell_type": "markdown",
   "metadata": {},
   "source": [
    "### Refactoring your code from legacy `MazeTokenizer` and `TokenizationMode`\n",
    "Since `MazeTokenizerModular` uses a static vocabulary, it is not backwards compatible with any models trained using a legacy `MazeTokenizer`. The `maze-transformer` library will be updated in vX.X.X to use `MazeTokenizerModular` by default in all settings. \n",
    "\n",
    "If you've manually specified a `MazeTokenizer` or `TokenizationMode` in your research code, the easiest way to refactor is using `MazeTokenizerModular.from_legacy`, which will convert a `MazeTokenizer` or `TokenizationMode` to its corresponding `MazeTokenizerModular` instance. Note that this correspondence means only that the stringification of mazes are equivalent; the encodings of strings to integer vocabulary indices are not."
   ]
  },
  {
   "cell_type": "code",
   "execution_count": 6,
   "metadata": {},
   "outputs": [
    {
     "name": "stdout",
     "output_type": "stream",
     "text": [
      "MazeTokenizer(tokenization_mode=<TokenizationMode.AOTP_UT_uniform: 'AOTP_UT_uniform'>, max_grid_size=None) \n",
      " MazeTokenizerModular(prompt_sequencer=PromptSequencers.AOTP(coord_tokenizer=CoordTokenizers.UT(), adj_list_tokenizer=AdjListTokenizers.AdjListCoord(pre=False, post=True, shuffle_d0=True, edge_grouping=EdgeGroupings.Ungrouped(connection_token_ordinal=1), edge_subset=EdgeSubsets.ConnectionEdges(walls=False), edge_permuter=EdgePermuters.RandomCoords()), target_tokenizer=TargetTokenizers.Unlabeled(post=False), path_tokenizer=PathTokenizers.StepSequence(step_size=StepSizes.Singles(), step_tokenizers=(StepTokenizers.Coord(),), pre=False, intra=False, post=False)))\n"
     ]
    }
   ],
   "source": [
    "legacy_maze_tokenizer: MazeTokenizer = TokenizationMode.AOTP_UT_uniform.to_legacy_tokenizer()\n",
    "modular_tokenizer_equivalent: MazeTokenizerModular = MazeTokenizerModular.from_legacy(legacy_maze_tokenizer)\n",
    "print(legacy_maze_tokenizer, '\\n', modular_tokenizer_equivalent)\n"
   ]
  },
  {
   "cell_type": "markdown",
   "metadata": {},
   "source": [
    "## `ALL_TOKENIZERS`"
   ]
  },
  {
   "cell_type": "markdown",
   "metadata": {},
   "source": [
    "For the most part, all combinations of `TokenizerElement`s and their arguments will produce a valid and unique `MazeTokenizerModular`. However, it is not guaranteed that every possible `MazeTokenizerModular` that can be constructed will make practical sense or have been put through testing.\n",
    "\n",
    "`ALL_TOKENIZERS` contains all the tested tokenizers pre-built. For research investigating many different tokenization schemes, one practical way to access them is by looping through `ALL_TOKENIZERS`. Be aware that the indexing of specific tokenizers in `ALL_TOKENIZERS` may change without notice."
   ]
  },
  {
   "cell_type": "code",
   "execution_count": 7,
   "metadata": {},
   "outputs": [
    {
     "name": "stderr",
     "output_type": "stream",
     "text": [
      "F:\\KNC\\maze-dataset\\maze_dataset\\tokenization\\maze_tokenizer.py:1020: UserWarning: no validation implemented for AdjListTokenizers\n",
      "  warnings.warn(\n"
     ]
    },
    {
     "data": {
      "text/plain": [
       "4105728"
      ]
     },
     "execution_count": 7,
     "metadata": {},
     "output_type": "execute_result"
    }
   ],
   "source": [
    "# TODO: this cell fails because all_tokenizers is broken and takes too long. we kill it after a minute to give helpful error messages of where the long (infinite?) loop is.\n",
    "from maze_dataset.tokenization.all_tokenizers import _get_all_tokenizers\n",
    "\n",
    "# import threading\n",
    "# import time\n",
    "# import signal\n",
    "\n",
    "# interrupt after a fixed time\n",
    "# def send_interrupt():\n",
    "# \ttime.sleep(60)\n",
    "# \tsignal.raise_signal(signal.SIGINT)\n",
    "\n",
    "# interrupt_thread = threading.Thread(target=send_interrupt)\n",
    "# interrupt_thread.start()\n",
    "# fancy_timeit_result = timeit_fancy(_get_all_tokenizers, repeats=1, do_profiling=True, get_return=True, namespace=locals())\n",
    "\n",
    "ALL_TOKENIZERS: list[MazeTokenizerModular] = _get_all_tokenizers()\n",
    "len(ALL_TOKENIZERS)"
   ]
  },
  {
   "cell_type": "code",
   "execution_count": 8,
   "metadata": {},
   "outputs": [
    {
     "name": "stdout",
     "output_type": "stream",
     "text": [
      "trying to get the dataset 'test-g3-n1-a_dfs-h50097'\n",
      "generating dataset...\n"
     ]
    },
    {
     "name": "stderr",
     "output_type": "stream",
     "text": [
      "generating & solving mazes: 100%|██████████| 1/1 [00:00<00:00, 199.92maze/s]"
     ]
    },
    {
     "name": "stdout",
     "output_type": "stream",
     "text": [
      "Got dataset test with 1 items. output.cfg.to_fname() = 'test-g3-n1-a_dfs-h50097'\n"
     ]
    },
    {
     "name": "stderr",
     "output_type": "stream",
     "text": [
      "\n"
     ]
    }
   ],
   "source": [
    "\n",
    "\n",
    "cfg: MazeDatasetConfig = MazeDatasetConfig(\n",
    "    name=\"test\",\n",
    "    grid_n=3,\n",
    "    n_mazes=1,\n",
    "    maze_ctor=LatticeMazeGenerators.gen_dfs,\n",
    ")\n",
    "maze_dataset: MazeDataset = MazeDataset.from_config(\n",
    "    cfg,\n",
    "    do_download=False,\n",
    "    load_local=False,\n",
    "    do_generate=True,\n",
    "    save_local=False,\n",
    "    verbose=True,\n",
    "    gen_parallel=False,\n",
    ")"
   ]
  },
  {
   "cell_type": "code",
   "execution_count": 13,
   "metadata": {},
   "outputs": [
    {
     "name": "stderr",
     "output_type": "stream",
     "text": [
      "c:\\Users\\mivan\\AppData\\Local\\pypoetry\\Cache\\virtualenvs\\maze-dataset-K69OfPxp-py3.11\\Lib\\site-packages\\muutils\\errormode.py:52: UserWarning: Rollouts are not the same length: 70 != 76\n",
      "  warn_func(msg, category=warn_cls, source=except_from)\n",
      "c:\\Users\\mivan\\AppData\\Local\\pypoetry\\Cache\\virtualenvs\\maze-dataset-K69OfPxp-py3.11\\Lib\\site-packages\\muutils\\errormode.py:52: UserWarning: Rollouts are not the same length: 71 != 65\n",
      "  warn_func(msg, category=warn_cls, source=except_from)\n",
      "c:\\Users\\mivan\\AppData\\Local\\pypoetry\\Cache\\virtualenvs\\maze-dataset-K69OfPxp-py3.11\\Lib\\site-packages\\muutils\\errormode.py:52: UserWarning: Rollouts are not the same length: 70 != 64\n",
      "  warn_func(msg, category=warn_cls, source=except_from)\n",
      "c:\\Users\\mivan\\AppData\\Local\\pypoetry\\Cache\\virtualenvs\\maze-dataset-K69OfPxp-py3.11\\Lib\\site-packages\\muutils\\errormode.py:52: UserWarning: Rollouts are not the same length: 65 != 59\n",
      "  warn_func(msg, category=warn_cls, source=except_from)\n",
      "c:\\Users\\mivan\\AppData\\Local\\pypoetry\\Cache\\virtualenvs\\maze-dataset-K69OfPxp-py3.11\\Lib\\site-packages\\muutils\\errormode.py:52: UserWarning: Rollouts are not the same length: 92 != 86\n",
      "  warn_func(msg, category=warn_cls, source=except_from)\n",
      "c:\\Users\\mivan\\AppData\\Local\\pypoetry\\Cache\\virtualenvs\\maze-dataset-K69OfPxp-py3.11\\Lib\\site-packages\\muutils\\errormode.py:52: UserWarning: Rollouts are not the same length: 76 != 70\n",
      "  warn_func(msg, category=warn_cls, source=except_from)\n",
      "c:\\Users\\mivan\\AppData\\Local\\pypoetry\\Cache\\virtualenvs\\maze-dataset-K69OfPxp-py3.11\\Lib\\site-packages\\muutils\\errormode.py:52: UserWarning: Rollouts are not the same length: 80 != 86\n",
      "  warn_func(msg, category=warn_cls, source=except_from)\n",
      "c:\\Users\\mivan\\AppData\\Local\\pypoetry\\Cache\\virtualenvs\\maze-dataset-K69OfPxp-py3.11\\Lib\\site-packages\\muutils\\errormode.py:52: UserWarning: Rollouts are not the same length: 87 != 81\n",
      "  warn_func(msg, category=warn_cls, source=except_from)\n",
      "c:\\Users\\mivan\\AppData\\Local\\pypoetry\\Cache\\virtualenvs\\maze-dataset-K69OfPxp-py3.11\\Lib\\site-packages\\muutils\\errormode.py:52: UserWarning: Rollouts are not the same length: 75 != 81\n",
      "  warn_func(msg, category=warn_cls, source=except_from)\n",
      "c:\\Users\\mivan\\AppData\\Local\\pypoetry\\Cache\\virtualenvs\\maze-dataset-K69OfPxp-py3.11\\Lib\\site-packages\\muutils\\errormode.py:52: UserWarning: Rollouts are not the same length: 75 != 69\n",
      "  warn_func(msg, category=warn_cls, source=except_from)\n",
      "c:\\Users\\mivan\\AppData\\Local\\pypoetry\\Cache\\virtualenvs\\maze-dataset-K69OfPxp-py3.11\\Lib\\site-packages\\muutils\\errormode.py:52: UserWarning: Rollouts are not the same length: 64 != 70\n",
      "  warn_func(msg, category=warn_cls, source=except_from)\n",
      "c:\\Users\\mivan\\AppData\\Local\\pypoetry\\Cache\\virtualenvs\\maze-dataset-K69OfPxp-py3.11\\Lib\\site-packages\\muutils\\errormode.py:52: UserWarning: Rollouts are not the same length: 67 != 61\n",
      "  warn_func(msg, category=warn_cls, source=except_from)\n",
      "c:\\Users\\mivan\\AppData\\Local\\pypoetry\\Cache\\virtualenvs\\maze-dataset-K69OfPxp-py3.11\\Lib\\site-packages\\muutils\\errormode.py:52: UserWarning: Rollouts are not the same length: 60 != 66\n",
      "  warn_func(msg, category=warn_cls, source=except_from)\n",
      "c:\\Users\\mivan\\AppData\\Local\\pypoetry\\Cache\\virtualenvs\\maze-dataset-K69OfPxp-py3.11\\Lib\\site-packages\\muutils\\errormode.py:52: UserWarning: Rollouts are not the same length: 73 != 67\n",
      "  warn_func(msg, category=warn_cls, source=except_from)\n",
      "c:\\Users\\mivan\\AppData\\Local\\pypoetry\\Cache\\virtualenvs\\maze-dataset-K69OfPxp-py3.11\\Lib\\site-packages\\muutils\\errormode.py:52: UserWarning: Rollouts are not the same length: 77 != 71\n",
      "  warn_func(msg, category=warn_cls, source=except_from)\n",
      "c:\\Users\\mivan\\AppData\\Local\\pypoetry\\Cache\\virtualenvs\\maze-dataset-K69OfPxp-py3.11\\Lib\\site-packages\\muutils\\errormode.py:52: UserWarning: Rollouts are not the same length: 66 != 60\n",
      "  warn_func(msg, category=warn_cls, source=except_from)\n",
      "c:\\Users\\mivan\\AppData\\Local\\pypoetry\\Cache\\virtualenvs\\maze-dataset-K69OfPxp-py3.11\\Lib\\site-packages\\muutils\\errormode.py:52: UserWarning: Rollouts are not the same length: 59 != 65\n",
      "  warn_func(msg, category=warn_cls, source=except_from)\n",
      "c:\\Users\\mivan\\AppData\\Local\\pypoetry\\Cache\\virtualenvs\\maze-dataset-K69OfPxp-py3.11\\Lib\\site-packages\\muutils\\errormode.py:52: UserWarning: Rollouts are not the same length: 64 != 58\n",
      "  warn_func(msg, category=warn_cls, source=except_from)\n",
      "c:\\Users\\mivan\\AppData\\Local\\pypoetry\\Cache\\virtualenvs\\maze-dataset-K69OfPxp-py3.11\\Lib\\site-packages\\muutils\\errormode.py:52: UserWarning: Rollouts are not the same length: 63 != 57\n",
      "  warn_func(msg, category=warn_cls, source=except_from)\n",
      "c:\\Users\\mivan\\AppData\\Local\\pypoetry\\Cache\\virtualenvs\\maze-dataset-K69OfPxp-py3.11\\Lib\\site-packages\\muutils\\errormode.py:52: UserWarning: Rollouts are not the same length: 68 != 62\n",
      "  warn_func(msg, category=warn_cls, source=except_from)\n",
      "c:\\Users\\mivan\\AppData\\Local\\pypoetry\\Cache\\virtualenvs\\maze-dataset-K69OfPxp-py3.11\\Lib\\site-packages\\muutils\\errormode.py:52: UserWarning: Rollouts are not the same length: 57 != 63\n",
      "  warn_func(msg, category=warn_cls, source=except_from)\n",
      "c:\\Users\\mivan\\AppData\\Local\\pypoetry\\Cache\\virtualenvs\\maze-dataset-K69OfPxp-py3.11\\Lib\\site-packages\\muutils\\errormode.py:52: UserWarning: Rollouts are not the same length: 62 != 56\n",
      "  warn_func(msg, category=warn_cls, source=except_from)\n",
      "c:\\Users\\mivan\\AppData\\Local\\pypoetry\\Cache\\virtualenvs\\maze-dataset-K69OfPxp-py3.11\\Lib\\site-packages\\muutils\\errormode.py:52: UserWarning: Rollouts are not the same length: 61 != 67\n",
      "  warn_func(msg, category=warn_cls, source=except_from)\n",
      "c:\\Users\\mivan\\AppData\\Local\\pypoetry\\Cache\\virtualenvs\\maze-dataset-K69OfPxp-py3.11\\Lib\\site-packages\\muutils\\errormode.py:52: UserWarning: Rollouts are not the same length: 68 != 74\n",
      "  warn_func(msg, category=warn_cls, source=except_from)\n",
      "c:\\Users\\mivan\\AppData\\Local\\pypoetry\\Cache\\virtualenvs\\maze-dataset-K69OfPxp-py3.11\\Lib\\site-packages\\muutils\\errormode.py:52: UserWarning: Rollouts are not the same length: 65 != 71\n",
      "  warn_func(msg, category=warn_cls, source=except_from)\n",
      "c:\\Users\\mivan\\AppData\\Local\\pypoetry\\Cache\\virtualenvs\\maze-dataset-K69OfPxp-py3.11\\Lib\\site-packages\\muutils\\errormode.py:52: UserWarning: Rollouts are not the same length: 81 != 75\n",
      "  warn_func(msg, category=warn_cls, source=except_from)\n",
      "c:\\Users\\mivan\\AppData\\Local\\pypoetry\\Cache\\virtualenvs\\maze-dataset-K69OfPxp-py3.11\\Lib\\site-packages\\muutils\\errormode.py:52: UserWarning: Rollouts are not the same length: 58 != 64\n",
      "  warn_func(msg, category=warn_cls, source=except_from)\n",
      "c:\\Users\\mivan\\AppData\\Local\\pypoetry\\Cache\\virtualenvs\\maze-dataset-K69OfPxp-py3.11\\Lib\\site-packages\\muutils\\errormode.py:52: UserWarning: Rollouts are not the same length: 91 != 85\n",
      "  warn_func(msg, category=warn_cls, source=except_from)\n",
      "c:\\Users\\mivan\\AppData\\Local\\pypoetry\\Cache\\virtualenvs\\maze-dataset-K69OfPxp-py3.11\\Lib\\site-packages\\muutils\\errormode.py:52: UserWarning: Rollouts are not the same length: 80 != 74\n",
      "  warn_func(msg, category=warn_cls, source=except_from)\n",
      "c:\\Users\\mivan\\AppData\\Local\\pypoetry\\Cache\\virtualenvs\\maze-dataset-K69OfPxp-py3.11\\Lib\\site-packages\\muutils\\errormode.py:52: UserWarning: Rollouts are not the same length: 85 != 79\n",
      "  warn_func(msg, category=warn_cls, source=except_from)\n",
      "c:\\Users\\mivan\\AppData\\Local\\pypoetry\\Cache\\virtualenvs\\maze-dataset-K69OfPxp-py3.11\\Lib\\site-packages\\muutils\\errormode.py:52: UserWarning: Rollouts are not the same length: 63 != 69\n",
      "  warn_func(msg, category=warn_cls, source=except_from)\n",
      "c:\\Users\\mivan\\AppData\\Local\\pypoetry\\Cache\\virtualenvs\\maze-dataset-K69OfPxp-py3.11\\Lib\\site-packages\\muutils\\errormode.py:52: UserWarning: Rollouts are not the same length: 72 != 66\n",
      "  warn_func(msg, category=warn_cls, source=except_from)\n",
      "c:\\Users\\mivan\\AppData\\Local\\pypoetry\\Cache\\virtualenvs\\maze-dataset-K69OfPxp-py3.11\\Lib\\site-packages\\muutils\\errormode.py:52: UserWarning: Rollouts are not the same length: 66 != 72\n",
      "  warn_func(msg, category=warn_cls, source=except_from)\n",
      "c:\\Users\\mivan\\AppData\\Local\\pypoetry\\Cache\\virtualenvs\\maze-dataset-K69OfPxp-py3.11\\Lib\\site-packages\\muutils\\errormode.py:52: UserWarning: Rollouts are not the same length: 69 != 75\n",
      "  warn_func(msg, category=warn_cls, source=except_from)\n",
      "c:\\Users\\mivan\\AppData\\Local\\pypoetry\\Cache\\virtualenvs\\maze-dataset-K69OfPxp-py3.11\\Lib\\site-packages\\muutils\\errormode.py:52: UserWarning: Rollouts are not the same length: 56 != 62\n",
      "  warn_func(msg, category=warn_cls, source=except_from)\n",
      "c:\\Users\\mivan\\AppData\\Local\\pypoetry\\Cache\\virtualenvs\\maze-dataset-K69OfPxp-py3.11\\Lib\\site-packages\\muutils\\errormode.py:52: UserWarning: Rollouts are not the same length: 55 != 61\n",
      "  warn_func(msg, category=warn_cls, source=except_from)\n",
      "c:\\Users\\mivan\\AppData\\Local\\pypoetry\\Cache\\virtualenvs\\maze-dataset-K69OfPxp-py3.11\\Lib\\site-packages\\muutils\\errormode.py:52: UserWarning: Rollouts are not the same length: 61 != 55\n",
      "  warn_func(msg, category=warn_cls, source=except_from)\n",
      "c:\\Users\\mivan\\AppData\\Local\\pypoetry\\Cache\\virtualenvs\\maze-dataset-K69OfPxp-py3.11\\Lib\\site-packages\\muutils\\errormode.py:52: UserWarning: Rollouts are not the same length: 69 != 63\n",
      "  warn_func(msg, category=warn_cls, source=except_from)\n",
      "c:\\Users\\mivan\\AppData\\Local\\pypoetry\\Cache\\virtualenvs\\maze-dataset-K69OfPxp-py3.11\\Lib\\site-packages\\muutils\\errormode.py:52: UserWarning: Rollouts are not the same length: 62 != 68\n",
      "  warn_func(msg, category=warn_cls, source=except_from)\n",
      "c:\\Users\\mivan\\AppData\\Local\\pypoetry\\Cache\\virtualenvs\\maze-dataset-K69OfPxp-py3.11\\Lib\\site-packages\\muutils\\errormode.py:52: UserWarning: Rollouts are not the same length: 81 != 87\n",
      "  warn_func(msg, category=warn_cls, source=except_from)\n",
      "c:\\Users\\mivan\\AppData\\Local\\pypoetry\\Cache\\virtualenvs\\maze-dataset-K69OfPxp-py3.11\\Lib\\site-packages\\muutils\\errormode.py:52: UserWarning: Rollouts are not the same length: 74 != 80\n",
      "  warn_func(msg, category=warn_cls, source=except_from)\n",
      "c:\\Users\\mivan\\AppData\\Local\\pypoetry\\Cache\\virtualenvs\\maze-dataset-K69OfPxp-py3.11\\Lib\\site-packages\\muutils\\errormode.py:52: UserWarning: Rollouts are not the same length: 67 != 73\n",
      "  warn_func(msg, category=warn_cls, source=except_from)\n",
      "c:\\Users\\mivan\\AppData\\Local\\pypoetry\\Cache\\virtualenvs\\maze-dataset-K69OfPxp-py3.11\\Lib\\site-packages\\muutils\\errormode.py:52: UserWarning: Rollouts are not the same length: 74 != 68\n",
      "  warn_func(msg, category=warn_cls, source=except_from)\n",
      "c:\\Users\\mivan\\AppData\\Local\\pypoetry\\Cache\\virtualenvs\\maze-dataset-K69OfPxp-py3.11\\Lib\\site-packages\\muutils\\errormode.py:52: UserWarning: Rollouts are not the same length: 85 != 91\n",
      "  warn_func(msg, category=warn_cls, source=except_from)\n",
      "c:\\Users\\mivan\\AppData\\Local\\pypoetry\\Cache\\virtualenvs\\maze-dataset-K69OfPxp-py3.11\\Lib\\site-packages\\muutils\\errormode.py:52: UserWarning: Rollouts are not the same length: 73 != 79\n",
      "  warn_func(msg, category=warn_cls, source=except_from)\n",
      "c:\\Users\\mivan\\AppData\\Local\\pypoetry\\Cache\\virtualenvs\\maze-dataset-K69OfPxp-py3.11\\Lib\\site-packages\\muutils\\errormode.py:52: UserWarning: Rollouts are not the same length: 71 != 77\n",
      "  warn_func(msg, category=warn_cls, source=except_from)\n",
      "c:\\Users\\mivan\\AppData\\Local\\pypoetry\\Cache\\virtualenvs\\maze-dataset-K69OfPxp-py3.11\\Lib\\site-packages\\muutils\\errormode.py:52: UserWarning: Rollouts are not the same length: 79 != 73\n",
      "  warn_func(msg, category=warn_cls, source=except_from)\n",
      "c:\\Users\\mivan\\AppData\\Local\\pypoetry\\Cache\\virtualenvs\\maze-dataset-K69OfPxp-py3.11\\Lib\\site-packages\\muutils\\errormode.py:52: UserWarning: Rollouts are not the same length: 86 != 80\n",
      "  warn_func(msg, category=warn_cls, source=except_from)\n",
      "c:\\Users\\mivan\\AppData\\Local\\pypoetry\\Cache\\virtualenvs\\maze-dataset-K69OfPxp-py3.11\\Lib\\site-packages\\muutils\\errormode.py:52: UserWarning: Rollouts are not the same length: 79 != 85\n",
      "  warn_func(msg, category=warn_cls, source=except_from)\n",
      "c:\\Users\\mivan\\AppData\\Local\\pypoetry\\Cache\\virtualenvs\\maze-dataset-K69OfPxp-py3.11\\Lib\\site-packages\\muutils\\errormode.py:52: UserWarning: Rollouts are not the same length: 54 != 60\n",
      "  warn_func(msg, category=warn_cls, source=except_from)\n",
      "c:\\Users\\mivan\\AppData\\Local\\pypoetry\\Cache\\virtualenvs\\maze-dataset-K69OfPxp-py3.11\\Lib\\site-packages\\muutils\\errormode.py:52: UserWarning: Adjacency list counters are not the same:\n",
      "Counter({'ADJ_GROUP': 8, ';': 8, '<-->': 8, '<XX>': 4, '(0,1)': 3, '(1,0)': 3, '(1,1)': 3, '(0,0)': 2, '(0,2)': 2, '(1,2)': 2, '(2,0)': 2, '(2,1)': 2, '(2,2)': 1})\n",
      "!=\n",
      "Counter({'ADJ_GROUP': 8, '<-->': 8, ';': 8, '<XX>': 4, '(1,1)': 3, '(1,2)': 3, '(2,1)': 3, '(1,0)': 2, '(0,1)': 2, '(0,2)': 2, '(2,0)': 2, '(2,2)': 2, '(0,0)': 1})\n",
      "counter1 - counter2 = Counter({'(0,1)': 1, '(0,0)': 1, '(1,0)': 1})\n",
      "  warn_func(msg, category=warn_cls, source=except_from)\n",
      "c:\\Users\\mivan\\AppData\\Local\\pypoetry\\Cache\\virtualenvs\\maze-dataset-K69OfPxp-py3.11\\Lib\\site-packages\\muutils\\errormode.py:52: UserWarning: Adjacency list counters are not the same:\n",
      "Counter({'ADJ_GROUP': 8, '<-->': 8, ';': 8, '<XX>': 4, '(1,1)': 3, '(1,2)': 3, '(2,1)': 3, '(0,1)': 2, '(1,0)': 2, '(0,2)': 2, '(2,0)': 2, '(2,2)': 2, '(0,0)': 1})\n",
      "!=\n",
      "Counter({'ADJ_GROUP': 8, ';': 8, '<-->': 8, '<XX>': 4, '(0,1)': 3, '(1,0)': 3, '(1,1)': 3, '(0,0)': 2, '(0,2)': 2, '(1,2)': 2, '(2,0)': 2, '(2,1)': 2, '(2,2)': 1})\n",
      "counter1 - counter2 = Counter({'(1,2)': 1, '(2,1)': 1, '(2,2)': 1})\n",
      "  warn_func(msg, category=warn_cls, source=except_from)\n",
      "c:\\Users\\mivan\\AppData\\Local\\pypoetry\\Cache\\virtualenvs\\maze-dataset-K69OfPxp-py3.11\\Lib\\site-packages\\muutils\\errormode.py:52: UserWarning: Adjacency list counters are not the same:\n",
      "Counter({'ADJ_GROUP': 8, ';': 8, '<-->': 8, '<XX>': 4, '(0,1)': 3, '(1,0)': 3, '(1,1)': 3, '(0,0)': 2, '(0,2)': 2, '(1,2)': 2, '(2,0)': 2, '(2,1)': 2, '(2,2)': 1})\n",
      "!=\n",
      "Counter({'ADJ_GROUP': 8, '<-->': 8, ';': 8, '<XX>': 4, '(1,1)': 3, '(1,2)': 3, '(2,1)': 3, '(0,1)': 2, '(1,0)': 2, '(0,2)': 2, '(2,0)': 2, '(2,2)': 2, '(0,0)': 1})\n",
      "counter1 - counter2 = Counter({'(0,1)': 1, '(0,0)': 1, '(1,0)': 1})\n",
      "  warn_func(msg, category=warn_cls, source=except_from)\n",
      "c:\\Users\\mivan\\AppData\\Local\\pypoetry\\Cache\\virtualenvs\\maze-dataset-K69OfPxp-py3.11\\Lib\\site-packages\\muutils\\errormode.py:52: UserWarning: Adjacency list counters are not the same:\n",
      "Counter({'ADJ_GROUP': 8, '<-->': 8, ';': 8, '<XX>': 4, '(1,1)': 3, '(1,2)': 3, '(2,1)': 3, '(1,0)': 2, '(0,1)': 2, '(0,2)': 2, '(2,0)': 2, '(2,2)': 2, '(0,0)': 1})\n",
      "!=\n",
      "Counter({'ADJ_GROUP': 8, ';': 8, '<-->': 8, '<XX>': 4, '(0,1)': 3, '(1,0)': 3, '(1,1)': 3, '(0,0)': 2, '(0,2)': 2, '(1,2)': 2, '(2,0)': 2, '(2,1)': 2, '(2,2)': 1})\n",
      "counter1 - counter2 = Counter({'(1,2)': 1, '(2,1)': 1, '(2,2)': 1})\n",
      "  warn_func(msg, category=warn_cls, source=except_from)\n",
      "c:\\Users\\mivan\\AppData\\Local\\pypoetry\\Cache\\virtualenvs\\maze-dataset-K69OfPxp-py3.11\\Lib\\site-packages\\muutils\\errormode.py:52: UserWarning: Rollouts are not the same length: 57 != 51\n",
      "  warn_func(msg, category=warn_cls, source=except_from)\n",
      "c:\\Users\\mivan\\AppData\\Local\\pypoetry\\Cache\\virtualenvs\\maze-dataset-K69OfPxp-py3.11\\Lib\\site-packages\\muutils\\errormode.py:52: UserWarning: Rollouts are not the same length: 78 != 84\n",
      "  warn_func(msg, category=warn_cls, source=except_from)\n",
      "c:\\Users\\mivan\\AppData\\Local\\pypoetry\\Cache\\virtualenvs\\maze-dataset-K69OfPxp-py3.11\\Lib\\site-packages\\muutils\\errormode.py:52: UserWarning: Rollouts are not the same length: 78 != 72\n",
      "  warn_func(msg, category=warn_cls, source=except_from)\n",
      "c:\\Users\\mivan\\AppData\\Local\\pypoetry\\Cache\\virtualenvs\\maze-dataset-K69OfPxp-py3.11\\Lib\\site-packages\\muutils\\errormode.py:52: UserWarning: Rollouts are not the same length: 59 != 53\n",
      "  warn_func(msg, category=warn_cls, source=except_from)\n",
      "c:\\Users\\mivan\\AppData\\Local\\pypoetry\\Cache\\virtualenvs\\maze-dataset-K69OfPxp-py3.11\\Lib\\site-packages\\muutils\\errormode.py:52: UserWarning: Rollouts are not the same length: 58 != 52\n",
      "  warn_func(msg, category=warn_cls, source=except_from)\n",
      "c:\\Users\\mivan\\AppData\\Local\\pypoetry\\Cache\\virtualenvs\\maze-dataset-K69OfPxp-py3.11\\Lib\\site-packages\\muutils\\errormode.py:52: UserWarning: Rollouts are not the same length: 52 != 58\n",
      "  warn_func(msg, category=warn_cls, source=except_from)\n",
      "c:\\Users\\mivan\\AppData\\Local\\pypoetry\\Cache\\virtualenvs\\maze-dataset-K69OfPxp-py3.11\\Lib\\site-packages\\muutils\\errormode.py:52: UserWarning: Rollouts are not the same length: 55 != 49\n",
      "  warn_func(msg, category=warn_cls, source=except_from)\n",
      "c:\\Users\\mivan\\AppData\\Local\\pypoetry\\Cache\\virtualenvs\\maze-dataset-K69OfPxp-py3.11\\Lib\\site-packages\\muutils\\errormode.py:52: UserWarning: Rollouts are not the same length: 53 != 59\n",
      "  warn_func(msg, category=warn_cls, source=except_from)\n",
      "c:\\Users\\mivan\\AppData\\Local\\pypoetry\\Cache\\virtualenvs\\maze-dataset-K69OfPxp-py3.11\\Lib\\site-packages\\muutils\\errormode.py:52: UserWarning: Rollouts are not the same length: 56 != 50\n",
      "  warn_func(msg, category=warn_cls, source=except_from)\n",
      "c:\\Users\\mivan\\AppData\\Local\\pypoetry\\Cache\\virtualenvs\\maze-dataset-K69OfPxp-py3.11\\Lib\\site-packages\\muutils\\errormode.py:52: UserWarning: Rollouts are not the same length: 72 != 78\n",
      "  warn_func(msg, category=warn_cls, source=except_from)\n",
      "c:\\Users\\mivan\\AppData\\Local\\pypoetry\\Cache\\virtualenvs\\maze-dataset-K69OfPxp-py3.11\\Lib\\site-packages\\muutils\\errormode.py:52: UserWarning: Rollouts are not the same length: 51 != 57\n",
      "  warn_func(msg, category=warn_cls, source=except_from)\n",
      "c:\\Users\\mivan\\AppData\\Local\\pypoetry\\Cache\\virtualenvs\\maze-dataset-K69OfPxp-py3.11\\Lib\\site-packages\\muutils\\errormode.py:52: UserWarning: Rollouts are not the same length: 54 != 48\n",
      "  warn_func(msg, category=warn_cls, source=except_from)\n",
      "c:\\Users\\mivan\\AppData\\Local\\pypoetry\\Cache\\virtualenvs\\maze-dataset-K69OfPxp-py3.11\\Lib\\site-packages\\muutils\\errormode.py:52: UserWarning: Rollouts are not the same length: 60 != 54\n",
      "  warn_func(msg, category=warn_cls, source=except_from)\n",
      "c:\\Users\\mivan\\AppData\\Local\\pypoetry\\Cache\\virtualenvs\\maze-dataset-K69OfPxp-py3.11\\Lib\\site-packages\\muutils\\errormode.py:52: UserWarning: Rollouts are not the same length: 49 != 55\n",
      "  warn_func(msg, category=warn_cls, source=except_from)\n",
      "c:\\Users\\mivan\\AppData\\Local\\pypoetry\\Cache\\virtualenvs\\maze-dataset-K69OfPxp-py3.11\\Lib\\site-packages\\muutils\\errormode.py:52: UserWarning: Rollouts are not the same length: 48 != 54\n",
      "  warn_func(msg, category=warn_cls, source=except_from)\n",
      "c:\\Users\\mivan\\AppData\\Local\\pypoetry\\Cache\\virtualenvs\\maze-dataset-K69OfPxp-py3.11\\Lib\\site-packages\\muutils\\errormode.py:52: UserWarning: Rollouts are not the same length: 84 != 78\n",
      "  warn_func(msg, category=warn_cls, source=except_from)\n",
      "c:\\Users\\mivan\\AppData\\Local\\pypoetry\\Cache\\virtualenvs\\maze-dataset-K69OfPxp-py3.11\\Lib\\site-packages\\muutils\\errormode.py:52: UserWarning: Rollouts are not the same length: 50 != 56\n",
      "  warn_func(msg, category=warn_cls, source=except_from)\n",
      "c:\\Users\\mivan\\AppData\\Local\\pypoetry\\Cache\\virtualenvs\\maze-dataset-K69OfPxp-py3.11\\Lib\\site-packages\\muutils\\errormode.py:52: UserWarning: Rollouts are not the same length: 47 != 53\n",
      "  warn_func(msg, category=warn_cls, source=except_from)\n",
      "c:\\Users\\mivan\\AppData\\Local\\pypoetry\\Cache\\virtualenvs\\maze-dataset-K69OfPxp-py3.11\\Lib\\site-packages\\muutils\\errormode.py:52: UserWarning: Rollouts are not the same length: 83 != 77\n",
      "  warn_func(msg, category=warn_cls, source=except_from)\n",
      "c:\\Users\\mivan\\AppData\\Local\\pypoetry\\Cache\\virtualenvs\\maze-dataset-K69OfPxp-py3.11\\Lib\\site-packages\\muutils\\errormode.py:52: UserWarning: Rollouts are not the same length: 53 != 47\n",
      "  warn_func(msg, category=warn_cls, source=except_from)\n",
      "c:\\Users\\mivan\\AppData\\Local\\pypoetry\\Cache\\virtualenvs\\maze-dataset-K69OfPxp-py3.11\\Lib\\site-packages\\muutils\\errormode.py:52: UserWarning: Rollouts are not the same length: 77 != 83\n",
      "  warn_func(msg, category=warn_cls, source=except_from)\n",
      "c:\\Users\\mivan\\AppData\\Local\\pypoetry\\Cache\\virtualenvs\\maze-dataset-K69OfPxp-py3.11\\Lib\\site-packages\\muutils\\errormode.py:52: UserWarning: Rollouts are not the same length: 86 != 92\n",
      "  warn_func(msg, category=warn_cls, source=except_from)\n",
      "c:\\Users\\mivan\\AppData\\Local\\pypoetry\\Cache\\virtualenvs\\maze-dataset-K69OfPxp-py3.11\\Lib\\site-packages\\muutils\\errormode.py:52: UserWarning: Rollouts are not the same length: 82 != 76\n",
      "  warn_func(msg, category=warn_cls, source=except_from)\n",
      "c:\\Users\\mivan\\AppData\\Local\\pypoetry\\Cache\\virtualenvs\\maze-dataset-K69OfPxp-py3.11\\Lib\\site-packages\\muutils\\errormode.py:52: UserWarning: Rollouts are not the same length: 46 != 52\n",
      "  warn_func(msg, category=warn_cls, source=except_from)\n",
      "c:\\Users\\mivan\\AppData\\Local\\pypoetry\\Cache\\virtualenvs\\maze-dataset-K69OfPxp-py3.11\\Lib\\site-packages\\muutils\\errormode.py:52: UserWarning: Rollouts are not the same length: 52 != 46\n",
      "  warn_func(msg, category=warn_cls, source=except_from)\n"
     ]
    }
   ],
   "source": [
    "n_diff: int = 0\n",
    "\n",
    "funky_tokenizers: list[md_tokenization.TokenizerElement] = [\n",
    "    md_tokenization\n",
    "]\n",
    "\n",
    "\n",
    "for tokenizer in ALL_TOKENIZERS:\n",
    "    a: list[str] = maze_dataset[0].as_tokens(tokenizer)\n",
    "    b: list[str] = tokenizer.to_tokens(maze_dataset[0])\n",
    "    try:\n",
    "        ab_are_equal: bool = equal_except_adj_list_sequence(\n",
    "            a, b,\n",
    "            do_except=True,\n",
    "            when_counter_mismatch=ErrorMode.WARN,\n",
    "            when_len_mismatch=ErrorMode.WARN,\n",
    "        )\n",
    "    except ValueError as e:\n",
    "        print(repr(tokenizer))\n",
    "        # print(tokenizer.tokenizer_element_tree())\n",
    "        print(yaml.dump(tokenizer.tokenizer_element_dict()))\n",
    "        # print(json.dumps(tokenizer.serialize(), indent=2))\n",
    "        print(\" \".join(a))\n",
    "        print(\" \".join(b))\n",
    "        print()\n",
    "        raise e\n",
    "    # if not ab_are_equal:\n",
    "    #     print(tokenizer)\n",
    "    #     print(\" \".join(a))\n",
    "    #     print(\" \".join(b))\n",
    "    #     print()\n",
    "    #     n_diff += 1\n",
    "\n",
    "\n",
    "print(f\"Number of different tokenizations: {n_diff}\")"
   ]
  },
  {
   "cell_type": "markdown",
   "metadata": {},
   "source": [
    "Other possible tokenizers which aren't in `ALL_TOKENIZERS` are not guaranteed to function. Since"
   ]
  },
  {
   "cell_type": "code",
   "execution_count": null,
   "metadata": {},
   "outputs": [],
   "source": [
    "custom_tokenizer = MazeTokenizerModular(\n",
    "    prompt_sequencer=PromptSequencers.AOP(include_target_special_tokens=False),\n",
    ")\n",
    "\n",
    "assert not custom_tokenizer.is_tested_tokenizer()  # Danger, use this tokenizer at your own risk!"
   ]
  },
  {
   "cell_type": "code",
   "execution_count": null,
   "metadata": {},
   "outputs": [],
   "source": []
  },
  {
   "cell_type": "markdown",
   "metadata": {},
   "source": [
    "### ALL_TOKENIZERS Reference\n",
    "\n",
    "For each tokenizer, tokenizations and encodings of the below maze are logged in a DataFrame for reference."
   ]
  },
  {
   "cell_type": "code",
   "execution_count": null,
   "metadata": {},
   "outputs": [],
   "source": [
    "MazePlot(maze_dataset[0]).plot()\n",
    "plt.show()"
   ]
  },
  {
   "cell_type": "code",
   "execution_count": null,
   "metadata": {},
   "outputs": [],
   "source": [
    "tokenizers: pd.DataFrame = pd.DataFrame( \n",
    "    columns=[\"tokenizer\", \"tokens\", \"encoding\", *mt_default.summary().keys()]\n",
    "    )\n",
    "tokenizers.tokenizer = ALL_TOKENIZERS\n",
    "tokenizers.tokens = tokenizers.tokenizer.apply(lambda x: \" \".join(maze_dataset[0].as_tokens(x)))\n",
    "tokenizers.encoding = tokenizers.tokens.apply(mt_default.encode)\n",
    "for k in mt_default.summary().keys():\n",
    "    tokenizers[k] = tokenizers.tokenizer.apply(lambda x: getattr(x, k))\n",
    "\n",
    "tokenizers"
   ]
  },
  {
   "cell_type": "code",
   "execution_count": null,
   "metadata": {},
   "outputs": [],
   "source": []
  }
 ],
 "metadata": {
  "kernelspec": {
   "display_name": "maze-dataset-zQQMZP3O-py3.10",
   "language": "python",
   "name": "python3"
  },
  "language_info": {
   "codemirror_mode": {
    "name": "ipython",
    "version": 3
   },
   "file_extension": ".py",
   "mimetype": "text/x-python",
   "name": "python",
   "nbconvert_exporter": "python",
   "pygments_lexer": "ipython3",
   "version": "3.11.4"
  }
 },
 "nbformat": 4,
 "nbformat_minor": 2
}
