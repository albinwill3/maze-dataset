{
 "cells": [
  {
   "cell_type": "code",
   "execution_count": 19,
   "metadata": {},
   "outputs": [],
   "source": [
    "import numpy as np\n",
    "import matplotlib.pyplot as plt\n",
    "\n",
    "from maze_dataset import (\n",
    "    MazeDatasetConfig,\n",
    "    LatticeMazeGenerators,\n",
    "    MazeDataset,\n",
    "    LatticeMaze,\n",
    "    CoordTup,\n",
    ")\n",
    "from maze_dataset.maze import TargetedLatticeMaze"
   ]
  },
  {
   "cell_type": "code",
   "execution_count": 20,
   "metadata": {},
   "outputs": [],
   "source": [
    "def iterated_backfilling(maze: TargetedLatticeMaze) -> TargetedLatticeMaze:\n",
    "    \"\"\"\n",
    "    Perform iterated backfilling on a TargetedLatticeMaze object.\n",
    "\n",
    "    This algorithm iteratively removes dead ends (nodes with only one neighbor)\n",
    "    that are not the start or target nodes until no more such nodes exist.\n",
    "\n",
    "    Args:\n",
    "    maze (TargetedLatticeMaze): The input maze to perform backfilling on.\n",
    "\n",
    "    Returns:\n",
    "    TargetedLatticeMaze: A new TargetedLatticeMaze object with dead ends removed.\n",
    "    \"\"\"\n",
    "\n",
    "    # Create a copy of the connection list to modify\n",
    "    new_connection_list = maze.connection_list.copy()\n",
    "\n",
    "    # Create a temporary TargetedLatticeMaze object for using its methods\n",
    "    temp_maze = TargetedLatticeMaze(\n",
    "        connection_list=new_connection_list,\n",
    "        start_pos=maze.start_pos,\n",
    "        end_pos=maze.end_pos,\n",
    "    )\n",
    "\n",
    "    changed = True\n",
    "    while changed:\n",
    "        changed = False\n",
    "        for i in range(maze.grid_shape[0]):\n",
    "            for j in range(maze.grid_shape[1]):\n",
    "                pos = (i, j)\n",
    "                if _should_remove_node(temp_maze, pos):\n",
    "                    _remove_node(new_connection_list, pos)\n",
    "                    changed = True\n",
    "\n",
    "        # Update the temporary maze with the new connection list\n",
    "        temp_maze = TargetedLatticeMaze(\n",
    "            connection_list=new_connection_list,\n",
    "            start_pos=maze.start_pos,\n",
    "            end_pos=maze.end_pos,\n",
    "        )\n",
    "\n",
    "    return TargetedLatticeMaze(\n",
    "        connection_list=new_connection_list,\n",
    "        start_pos=maze.start_pos,\n",
    "        end_pos=maze.end_pos,\n",
    "    )\n",
    "\n",
    "\n",
    "def _should_remove_node(maze: TargetedLatticeMaze, pos: CoordTup) -> bool:\n",
    "    \"\"\"Check if a node should be removed.\"\"\"\n",
    "    if pos == tuple(maze.start_pos) or pos == tuple(maze.end_pos):\n",
    "        return False\n",
    "\n",
    "    neighbors = maze.get_coord_neighbors(np.array(pos))\n",
    "    return len(neighbors) == 1\n",
    "\n",
    "\n",
    "def _remove_node(connection_list: np.ndarray, pos: CoordTup) -> None:\n",
    "    \"\"\"Remove a node by disconnecting all its connections.\"\"\"\n",
    "    i, j = pos\n",
    "\n",
    "    # Remove up connection\n",
    "    if i > 0:\n",
    "        connection_list[0, i - 1, j] = False\n",
    "    # Remove down connection\n",
    "    if i < connection_list.shape[1] - 1:\n",
    "        connection_list[0, i, j] = False\n",
    "    # Remove left connection\n",
    "    if j > 0:\n",
    "        connection_list[1, i, j - 1] = False\n",
    "    # Remove right connection\n",
    "    if j < connection_list.shape[2] - 1:\n",
    "        connection_list[1, i, j] = False"
   ]
  },
  {
   "cell_type": "code",
   "execution_count": 21,
   "metadata": {},
   "outputs": [],
   "source": [
    "cfg: MazeDatasetConfig = MazeDatasetConfig(\n",
    "    name=\"test\",  # name is only for you to keep track of things\n",
    "    grid_n=10,  # number of rows/columns in the lattice\n",
    "    n_mazes=4,  # number of mazes to generate\n",
    "    maze_ctor=LatticeMazeGenerators.gen_dfs_percolation,  # algorithm to generate the maze\n",
    "    maze_ctor_kwargs={\"p\": 0.01},  # keyword arguments to pass to the maze\n",
    ")\n",
    "\n",
    "# to create a dataset, just call MazeDataset.from_config\n",
    "dataset: MazeDataset = MazeDataset.from_config(cfg)"
   ]
  },
  {
   "cell_type": "code",
   "execution_count": 22,
   "metadata": {},
   "outputs": [
    {
     "data": {
      "text/plain": [
       "<matplotlib.image.AxesImage at 0x2bd7afa84d0>"
      ]
     },
     "execution_count": 22,
     "metadata": {},
     "output_type": "execute_result"
    },
    {
     "data": {
      "image/png": "[encoded data removed]",
      "text/plain": [
       "<Figure size 640x480 with 1 Axes>"
      ]
     },
     "metadata": {},
     "output_type": "display_data"
    }
   ],
   "source": [
    "maze = dataset[0]\n",
    "plt.imshow(maze.as_pixels())"
   ]
  },
  {
   "cell_type": "code",
   "execution_count": 23,
   "metadata": {},
   "outputs": [
    {
     "data": {
      "text/plain": [
       "<matplotlib.image.AxesImage at 0x2bd7b006c90>"
      ]
     },
     "execution_count": 23,
     "metadata": {},
     "output_type": "execute_result"
    },
    {
     "data": {
      "image/png": "[encoded data removed]",
      "text/plain": [
       "<Figure size 640x480 with 1 Axes>"
      ]
     },
     "metadata": {},
     "output_type": "display_data"
    }
   ],
   "source": [
    "maze_bf = iterated_backfilling(maze)\n",
    "\n",
    "from maze_dataset.maze.lattice_maze import (\n",
    "    _remove_isolated_cells,\n",
    "    _remove_isolated_cells_old,\n",
    ")\n",
    "\n",
    "plt.imshow(_remove_isolated_cells(maze_bf.as_pixels()))"
   ]
  }
 ],
 "metadata": {
  "kernelspec": {
   "display_name": "maze-dataset-K69OfPxp-py3.11",
   "language": "python",
   "name": "python3"
  },
  "language_info": {
   "codemirror_mode": {
    "name": "ipython",
    "version": 3
   },
   "file_extension": ".py",
   "mimetype": "text/x-python",
   "name": "python",
   "nbconvert_exporter": "python",
   "pygments_lexer": "ipython3",
   "version": "3.11.4"
  },
  "orig_nbformat": 4
 },
 "nbformat": 4,
 "nbformat_minor": 2
}
