{
 "cells": [
  {
   "cell_type": "code",
   "execution_count": 1,
   "metadata": {},
   "outputs": [],
   "source": [
    "# Import necessary modules\n",
    "import sys\n",
    "import os\n",
    "\n",
    "# Set root folder to project root\n",
    "os.chdir(os.path.dirname(os.getcwd()))\n",
    "\n",
    "# Add root folder to path\n",
    "sys.path.append(os.getcwd())\n",
    "\n",
    "import torch\n",
    "from maze_dataset import set_serialize_minimal_threshold\n",
    "from maze_dataset.generation import LatticeMazeGenerators\n",
    "from maze_dataset.dataset.rasterized import MazeDatasetConfig, MazeDataset, RasterizedMazeDataset\n",
    "\n",
    "from src.utils.loading import get_mazes, load_model\n",
    "from src.utils.plotting import plot_mazes"
   ]
  },
  {
   "cell_type": "code",
   "execution_count": null,
   "metadata": {},
   "outputs": [],
   "source": [
    "def get_device():\n",
    "    return torch.device(\"cuda\" if torch.cuda.is_available() else \"cpu\")\n",
    "\n",
    "# Print available devices\n",
    "print(\"Available devices:\")\n",
    "print(torch.cuda.device_count())"
   ]
  },
  {
   "cell_type": "code",
   "execution_count": 4,
   "metadata": {},
   "outputs": [
    {
     "ename": "ValueError",
     "evalue": "no valid start or end positions found",
     "output_type": "error",
     "traceback": [
      "\u001b[0;31m---------------------------------------------------------------------------\u001b[0m",
      "\u001b[0;31mValueError\u001b[0m                                Traceback (most recent call last)",
      "Cell \u001b[0;32mIn[4], line 2\u001b[0m\n\u001b[1;32m      1\u001b[0m \u001b[38;5;66;03m#Create maze without deadend at start\u001b[39;00m\n\u001b[0;32m----> 2\u001b[0m inputs, solutions \u001b[38;5;241m=\u001b[39m \u001b[43mget_mazes\u001b[49m\u001b[43m(\u001b[49m\n\u001b[1;32m      3\u001b[0m \u001b[43m    \u001b[49m\u001b[43mdataset\u001b[49m\u001b[38;5;241;43m=\u001b[39;49m\u001b[38;5;124;43m'\u001b[39;49m\u001b[38;5;124;43mmaze-dataset\u001b[39;49m\u001b[38;5;124;43m'\u001b[39;49m\u001b[43m,\u001b[49m\u001b[43m \u001b[49m\n\u001b[1;32m      4\u001b[0m \u001b[43m    \u001b[49m\u001b[43mmaze_size\u001b[49m\u001b[38;5;241;43m=\u001b[39;49m\u001b[38;5;241;43m9\u001b[39;49m\u001b[43m,\u001b[49m\u001b[43m \u001b[49m\n\u001b[1;32m      5\u001b[0m \u001b[43m    \u001b[49m\u001b[43mnum_mazes\u001b[49m\u001b[38;5;241;43m=\u001b[39;49m\u001b[38;5;241;43m5\u001b[39;49m\u001b[43m,\u001b[49m\n\u001b[1;32m      6\u001b[0m \u001b[43m    \u001b[49m\u001b[43mpercolation\u001b[49m\u001b[38;5;241;43m=\u001b[39;49m\u001b[38;5;241;43m0.5\u001b[39;49m\u001b[43m,\u001b[49m\n\u001b[1;32m      7\u001b[0m \u001b[43m    \u001b[49m\u001b[43mdeadend_start\u001b[49m\u001b[38;5;241;43m=\u001b[39;49m\u001b[38;5;28;43;01mTrue\u001b[39;49;00m\u001b[43m)\u001b[49m\n\u001b[1;32m      9\u001b[0m plot_mazes(inputs, solutions\u001b[38;5;241m=\u001b[39msolutions, font_size\u001b[38;5;241m=\u001b[39m\u001b[38;5;241m20\u001b[39m);\n",
      "File \u001b[0;32m~/DeepThinkingV2/src/utils/loading.py:83\u001b[0m, in \u001b[0;36mget_mazes\u001b[0;34m(dataset, maze_size, num_mazes, gen, percolation, deadend_start)\u001b[0m\n\u001b[1;32m     80\u001b[0m     maze_ctor_kwargs \u001b[38;5;241m=\u001b[39m \u001b[38;5;28mdict\u001b[39m(p\u001b[38;5;241m=\u001b[39mpercolation)\n\u001b[1;32m     81\u001b[0m endpoint_kwargs\u001b[38;5;241m=\u001b[39m\u001b[38;5;28mdict\u001b[39m(deadend_start\u001b[38;5;241m=\u001b[39mdeadend_start, endpoints_not_equal\u001b[38;5;241m=\u001b[39m\u001b[38;5;28;01mTrue\u001b[39;00m)\n\u001b[0;32m---> 83\u001b[0m base_dataset \u001b[38;5;241m=\u001b[39m \u001b[43mMazeDataset\u001b[49m\u001b[38;5;241;43m.\u001b[39;49m\u001b[43mfrom_config\u001b[49m\u001b[43m(\u001b[49m\n\u001b[1;32m     84\u001b[0m \u001b[43m    \u001b[49m\u001b[43mMazeDatasetConfig\u001b[49m\u001b[43m(\u001b[49m\n\u001b[1;32m     85\u001b[0m \u001b[43m        \u001b[49m\u001b[43mname\u001b[49m\u001b[38;5;241;43m=\u001b[39;49m\u001b[38;5;124;43m'\u001b[39;49m\u001b[38;5;124;43mtest\u001b[39;49m\u001b[38;5;124;43m'\u001b[39;49m\u001b[43m,\u001b[49m\n\u001b[1;32m     86\u001b[0m \u001b[43m        \u001b[49m\u001b[43mgrid_n\u001b[49m\u001b[38;5;241;43m=\u001b[39;49m\u001b[43mgrid_n\u001b[49m\u001b[43m,\u001b[49m\n\u001b[1;32m     87\u001b[0m \u001b[43m        \u001b[49m\u001b[43mn_mazes\u001b[49m\u001b[38;5;241;43m=\u001b[39;49m\u001b[43mnum_mazes\u001b[49m\u001b[43m,\u001b[49m\n\u001b[1;32m     88\u001b[0m \u001b[43m        \u001b[49m\u001b[43mseed\u001b[49m\u001b[38;5;241;43m=\u001b[39;49m\u001b[38;5;241;43m42\u001b[39;49m\u001b[43m,\u001b[49m\n\u001b[1;32m     89\u001b[0m \u001b[43m        \u001b[49m\u001b[43mmaze_ctor\u001b[49m\u001b[38;5;241;43m=\u001b[39;49m\u001b[43mmaze_ctor\u001b[49m\u001b[43m,\u001b[49m\u001b[43m \u001b[49m\n\u001b[1;32m     90\u001b[0m \u001b[43m        \u001b[49m\u001b[43mmaze_ctor_kwargs\u001b[49m\u001b[38;5;241;43m=\u001b[39;49m\u001b[43mmaze_ctor_kwargs\u001b[49m\u001b[43m,\u001b[49m\n\u001b[1;32m     91\u001b[0m \u001b[43m        \u001b[49m\u001b[43mendpoint_kwargs\u001b[49m\u001b[38;5;241;43m=\u001b[39;49m\u001b[43mendpoint_kwargs\u001b[49m\n\u001b[1;32m     92\u001b[0m \u001b[43m    \u001b[49m\u001b[43m)\u001b[49m\u001b[43m,\u001b[49m\n\u001b[1;32m     93\u001b[0m \u001b[43m    \u001b[49m\u001b[43mlocal_base_path\u001b[49m\u001b[38;5;241;43m=\u001b[39;49m\u001b[38;5;124;43m'\u001b[39;49m\u001b[38;5;124;43mdata/maze-dataset/\u001b[39;49m\u001b[38;5;124;43m'\u001b[39;49m\u001b[43m,\u001b[49m\n\u001b[1;32m     94\u001b[0m \u001b[43m\u001b[49m\u001b[43m)\u001b[49m\n\u001b[1;32m     96\u001b[0m \u001b[38;5;66;03m# Generate rasterized maze dataset\u001b[39;00m\n\u001b[1;32m     97\u001b[0m dataset \u001b[38;5;241m=\u001b[39m RasterizedMazeDataset\u001b[38;5;241m.\u001b[39mfrom_base_MazeDataset(\n\u001b[1;32m     98\u001b[0m     base_dataset\u001b[38;5;241m=\u001b[39mbase_dataset,\n\u001b[1;32m     99\u001b[0m     added_params\u001b[38;5;241m=\u001b[39m\u001b[38;5;28mdict\u001b[39m(\n\u001b[0;32m   (...)\u001b[0m\n\u001b[1;32m    102\u001b[0m     )\n\u001b[1;32m    103\u001b[0m )\n",
      "File \u001b[0;32m~/DeepThinkingV2/env/lib/python3.10/site-packages/maze_dataset/dataset/dataset.py:275\u001b[0m, in \u001b[0;36mGPTDataset.from_config\u001b[0;34m(cls, cfg, do_generate, load_local, save_local, zanj, do_download, local_base_path, except_on_config_mismatch, allow_generation_metadata_filter_mismatch, verbose, **kwargs)\u001b[0m\n\u001b[1;32m    273\u001b[0m \u001b[38;5;28;01mif\u001b[39;00m do_generate \u001b[38;5;129;01mand\u001b[39;00m output \u001b[38;5;129;01mis\u001b[39;00m \u001b[38;5;28;01mNone\u001b[39;00m:\n\u001b[1;32m    274\u001b[0m     print_log(\u001b[38;5;124m\"\u001b[39m\u001b[38;5;124mgenerating dataset...\u001b[39m\u001b[38;5;124m\"\u001b[39m)\n\u001b[0;32m--> 275\u001b[0m     output \u001b[38;5;241m=\u001b[39m \u001b[38;5;28;43mcls\u001b[39;49m\u001b[38;5;241;43m.\u001b[39;49m\u001b[43mgenerate\u001b[49m\u001b[43m(\u001b[49m\u001b[43mcfg\u001b[49m\u001b[43m,\u001b[49m\u001b[43m \u001b[49m\u001b[43mverbose\u001b[49m\u001b[38;5;241;43m=\u001b[39;49m\u001b[43mverbose\u001b[49m\u001b[43m,\u001b[49m\u001b[43m \u001b[49m\u001b[38;5;241;43m*\u001b[39;49m\u001b[38;5;241;43m*\u001b[39;49m\u001b[43mkwargs\u001b[49m\u001b[43m)\u001b[49m\n\u001b[1;32m    276\u001b[0m     \u001b[38;5;66;03m# only if we generated it, apply filters\u001b[39;00m\n\u001b[1;32m    277\u001b[0m     output \u001b[38;5;241m=\u001b[39m output\u001b[38;5;241m.\u001b[39m_apply_filters_from_config()\n",
      "File \u001b[0;32m~/DeepThinkingV2/env/lib/python3.10/site-packages/maze_dataset/dataset/maze_dataset.py:325\u001b[0m, in \u001b[0;36mMazeDataset.generate\u001b[0;34m(cls, cfg, gen_parallel, pool_kwargs, verbose)\u001b[0m\n\u001b[1;32m    323\u001b[0m \u001b[38;5;28;01melse\u001b[39;00m:\n\u001b[1;32m    324\u001b[0m     _maze_gen_init_worker(cfg_cpy)\n\u001b[0;32m--> 325\u001b[0m     solved_mazes \u001b[38;5;241m=\u001b[39m \u001b[38;5;28;43mlist\u001b[39;49m\u001b[43m(\u001b[49m\n\u001b[1;32m    326\u001b[0m \u001b[43m        \u001b[49m\u001b[43mtqdm\u001b[49m\u001b[38;5;241;43m.\u001b[39;49m\u001b[43mtqdm\u001b[49m\u001b[43m(\u001b[49m\n\u001b[1;32m    327\u001b[0m \u001b[43m            \u001b[49m\u001b[38;5;28;43mmap\u001b[39;49m\u001b[43m(\u001b[49m\n\u001b[1;32m    328\u001b[0m \u001b[43m                \u001b[49m\u001b[43m_generate_maze_helper\u001b[49m\u001b[43m,\u001b[49m\n\u001b[1;32m    329\u001b[0m \u001b[43m                \u001b[49m\u001b[43mmaze_indexes\u001b[49m\u001b[43m,\u001b[49m\n\u001b[1;32m    330\u001b[0m \u001b[43m            \u001b[49m\u001b[43m)\u001b[49m\u001b[43m,\u001b[49m\n\u001b[1;32m    331\u001b[0m \u001b[43m            \u001b[49m\u001b[38;5;241;43m*\u001b[39;49m\u001b[38;5;241;43m*\u001b[39;49m\u001b[43mtqdm_kwargs\u001b[49m\u001b[43m,\u001b[49m\n\u001b[1;32m    332\u001b[0m \u001b[43m        \u001b[49m\u001b[43m)\u001b[49m\n\u001b[1;32m    333\u001b[0m \u001b[43m    \u001b[49m\u001b[43m)\u001b[49m\n\u001b[1;32m    334\u001b[0m \u001b[38;5;66;03m# reset seed to default value\u001b[39;00m\n\u001b[1;32m    335\u001b[0m np\u001b[38;5;241m.\u001b[39mrandom\u001b[38;5;241m.\u001b[39mseed(cfg_cpy\u001b[38;5;241m.\u001b[39mseed)\n",
      "File \u001b[0;32m~/DeepThinkingV2/env/lib/python3.10/site-packages/tqdm/std.py:1169\u001b[0m, in \u001b[0;36mtqdm.__iter__\u001b[0;34m(self)\u001b[0m\n\u001b[1;32m   1166\u001b[0m \u001b[38;5;66;03m# If the bar is disabled, then just walk the iterable\u001b[39;00m\n\u001b[1;32m   1167\u001b[0m \u001b[38;5;66;03m# (note: keep this check outside the loop for performance)\u001b[39;00m\n\u001b[1;32m   1168\u001b[0m \u001b[38;5;28;01mif\u001b[39;00m \u001b[38;5;28mself\u001b[39m\u001b[38;5;241m.\u001b[39mdisable:\n\u001b[0;32m-> 1169\u001b[0m     \u001b[38;5;28;01mfor\u001b[39;00m obj \u001b[38;5;129;01min\u001b[39;00m iterable:\n\u001b[1;32m   1170\u001b[0m         \u001b[38;5;28;01myield\u001b[39;00m obj\n\u001b[1;32m   1171\u001b[0m     \u001b[38;5;28;01mreturn\u001b[39;00m\n",
      "File \u001b[0;32m~/DeepThinkingV2/env/lib/python3.10/site-packages/maze_dataset/dataset/maze_dataset.py:187\u001b[0m, in \u001b[0;36m_generate_maze_helper\u001b[0;34m(index)\u001b[0m\n\u001b[1;32m    182\u001b[0m \u001b[38;5;66;03m# TODO: don't use this unless generating in parallel!\u001b[39;00m\n\u001b[1;32m    183\u001b[0m maze: LatticeMaze \u001b[38;5;241m=\u001b[39m _GLOBAL_WORKER_CONFIG\u001b[38;5;241m.\u001b[39mmaze_ctor(\n\u001b[1;32m    184\u001b[0m     grid_shape\u001b[38;5;241m=\u001b[39m_GLOBAL_WORKER_CONFIG\u001b[38;5;241m.\u001b[39mgrid_shape_np,\n\u001b[1;32m    185\u001b[0m     \u001b[38;5;241m*\u001b[39m\u001b[38;5;241m*\u001b[39m_GLOBAL_WORKER_CONFIG\u001b[38;5;241m.\u001b[39mmaze_ctor_kwargs,\n\u001b[1;32m    186\u001b[0m )\n\u001b[0;32m--> 187\u001b[0m solution \u001b[38;5;241m=\u001b[39m \u001b[43mmaze\u001b[49m\u001b[38;5;241;43m.\u001b[39;49m\u001b[43mgenerate_random_path\u001b[49m\u001b[43m(\u001b[49m\u001b[38;5;241;43m*\u001b[39;49m\u001b[38;5;241;43m*\u001b[39;49m\u001b[43m_GLOBAL_WORKER_CONFIG\u001b[49m\u001b[38;5;241;43m.\u001b[39;49m\u001b[43mendpoint_kwargs\u001b[49m\u001b[43m)\u001b[49m\n\u001b[1;32m    188\u001b[0m \u001b[38;5;28;01massert\u001b[39;00m solution \u001b[38;5;129;01mis\u001b[39;00m \u001b[38;5;129;01mnot\u001b[39;00m \u001b[38;5;28;01mNone\u001b[39;00m, \u001b[38;5;124mf\u001b[39m\u001b[38;5;124m\"\u001b[39m\u001b[38;5;132;01m{\u001b[39;00msolution\u001b[38;5;250m \u001b[39m\u001b[38;5;132;01m= }\u001b[39;00m\u001b[38;5;124m\"\u001b[39m\n\u001b[1;32m    189\u001b[0m \u001b[38;5;28;01massert\u001b[39;00m \u001b[38;5;28mlen\u001b[39m(solution) \u001b[38;5;241m>\u001b[39m \u001b[38;5;241m0\u001b[39m, \u001b[38;5;124mf\u001b[39m\u001b[38;5;124m\"\u001b[39m\u001b[38;5;132;01m{\u001b[39;00msolution\u001b[38;5;250m \u001b[39m\u001b[38;5;132;01m= }\u001b[39;00m\u001b[38;5;124m\"\u001b[39m\n",
      "File \u001b[0;32m~/DeepThinkingV2/env/lib/python3.10/site-packages/maze_dataset/maze/lattice_maze.py:471\u001b[0m, in \u001b[0;36mLatticeMaze.generate_random_path\u001b[0;34m(self, except_when_invalid, allowed_start, allowed_end, deadend_start, deadend_end, endpoints_not_equal)\u001b[0m\n\u001b[1;32m    469\u001b[0m \u001b[38;5;66;03m# check we have valid positions\u001b[39;00m\n\u001b[1;32m    470\u001b[0m \u001b[38;5;28;01mif\u001b[39;00m \u001b[38;5;28mlen\u001b[39m(allowed_start_set) \u001b[38;5;241m==\u001b[39m \u001b[38;5;241m0\u001b[39m \u001b[38;5;129;01mor\u001b[39;00m \u001b[38;5;28mlen\u001b[39m(allowed_end_set) \u001b[38;5;241m==\u001b[39m \u001b[38;5;241m0\u001b[39m:\n\u001b[0;32m--> 471\u001b[0m     \u001b[38;5;28;01mraise\u001b[39;00m \u001b[38;5;167;01mValueError\u001b[39;00m(\u001b[38;5;124m\"\u001b[39m\u001b[38;5;124mno valid start or end positions found\u001b[39m\u001b[38;5;124m\"\u001b[39m)\n\u001b[1;32m    473\u001b[0m \u001b[38;5;66;03m# randomly select start and end positions\u001b[39;00m\n\u001b[1;32m    474\u001b[0m start_pos: CoordTup \u001b[38;5;241m=\u001b[39m \u001b[38;5;28mtuple\u001b[39m(\n\u001b[1;32m    475\u001b[0m     \u001b[38;5;28mlist\u001b[39m(allowed_start_set)[np\u001b[38;5;241m.\u001b[39mrandom\u001b[38;5;241m.\u001b[39mrandint(\u001b[38;5;241m0\u001b[39m, \u001b[38;5;28mlen\u001b[39m(allowed_start_set))]\n\u001b[1;32m    476\u001b[0m )\n",
      "\u001b[0;31mValueError\u001b[0m: no valid start or end positions found"
     ]
    }
   ],
   "source": [
    "def get_mazes(dataset='maze-dataset', maze_size=9, num_mazes=10, gen='dfs_perc', percolation=0.0, deadend_start=True):\n",
    "    \"\"\" Generate mazes of the given size and number, \n",
    "        from the given dataset, and load to device\"\"\"\n",
    "    \n",
    "    if dataset == 'maze-dataset':\n",
    "        \"\"\" https://github.com/understanding-search/maze-dataset \"\"\"\n",
    "\n",
    "        assert maze_size % 2 == 1\n",
    "        grid_n = (maze_size + 1) // 2\n",
    "        \n",
    "        # Generate base maze dataset\n",
    "        if gen == 'dfs':\n",
    "            maze_ctor = LatticeMazeGenerators.gen_dfs\n",
    "            maze_ctor_kwargs = dict()\n",
    "        elif gen == 'dfs_perc':\n",
    "            maze_ctor = LatticeMazeGenerators.gen_dfs_percolation\n",
    "            maze_ctor_kwargs = dict(p=percolation)\n",
    "        elif gen == 'percolation':\n",
    "            maze_ctor = LatticeMazeGenerators.gen_percolation\n",
    "            maze_ctor_kwargs = dict(p=percolation)\n",
    "        endpoint_kwargs=dict(deadend_start=deadend_start, endpoints_not_equal=True)\n",
    "\n",
    "        base_dataset = MazeDataset.from_config(\n",
    "            MazeDatasetConfig(\n",
    "                name='test',\n",
    "                grid_n=grid_n,\n",
    "                n_mazes=num_mazes,\n",
    "                seed=42,\n",
    "                maze_ctor=maze_ctor, \n",
    "                maze_ctor_kwargs=maze_ctor_kwargs,\n",
    "                endpoint_kwargs=endpoint_kwargs\n",
    "            ),\n",
    "            gen_parallel = True,\n",
    "            local_base_path='data/maze_dataset/',\n",
    "        )\n",
    "\n",
    "        # Generate rasterized maze dataset\n",
    "        dataset = RasterizedMazeDataset.from_base_MazeDataset(\n",
    "            base_dataset=base_dataset,\n",
    "            added_params=dict(\n",
    "                remove_isolated_cells=True,\n",
    "                extend_pixels=True, # maps from 1x1 to 2x2 pixels and adds 3 padding\n",
    "            )\n",
    "        )\n",
    "\n",
    "        dataset = dataset.get_batch(idxs=None)\n",
    "\n",
    "        # Get inputs\n",
    "        inputs = dataset[0,:,:,:]\n",
    "        inputs = inputs / 255.0\n",
    "        inputs = inputs.permute(0, 3, 1, 2)\n",
    "        inputs = inputs.float().detach().to(get_device(), dtype=torch.float32)\n",
    "\n",
    "        # Get solutions\n",
    "        solutions = dataset[1,:,:, :]\n",
    "        solutions = solutions / 255.0\n",
    "        solutions = solutions.permute(0, 3, 1, 2)\n",
    "        solutions, _ = torch.max(solutions, dim=1)\n",
    "        solutions = solutions.float().detach().to(get_device(), dtype=torch.float32) \n",
    "\n",
    "    elif dataset == 'easy-to-hard-data':\n",
    "        \"\"\" https://github.com/aks2203/easy-to-hard-data \"\"\"\n",
    "\n",
    "        assert maze_size in [9, 11, 13, 15, 17, 19, 21, 23, 25, 27, 29, 31, 33, 35, 37, 59]\n",
    "        # 50,000 training mazes for maze_size [9]\n",
    "        # 10,000 testing mazes for each smaller maze_size in [9, 11, 13, 15, 17]\n",
    "        # 1,000 testing mazes for each larger maze_size in [19, 21, 23, 25, 27, 29, 31, 33, 35, 37, 59]\n",
    "\n",
    "        maze_dataset = EasyToHardMazeDataset(root='data/easy-to-hard-data/', train=False, size=maze_size)\n",
    "        inputs = maze_dataset.inputs[:num_mazes].float().detach().to(get_device(), dtype=torch.float32)\n",
    "        solutions = maze_dataset.targets[:num_mazes].float().detach().to(get_device(), dtype=torch.float32)\n",
    "\n",
    "    return inputs, solutions"
   ]
  },
  {
   "cell_type": "code",
   "execution_count": 3,
   "metadata": {},
   "outputs": [
    {
     "ename": "ValueError",
     "evalue": "no valid start or end positions found",
     "output_type": "error",
     "traceback": [
      "\u001b[0;31m---------------------------------------------------------------------------\u001b[0m",
      "\u001b[0;31mValueError\u001b[0m                                Traceback (most recent call last)",
      "Cell \u001b[0;32mIn[3], line 3\u001b[0m\n\u001b[1;32m      1\u001b[0m \u001b[38;5;66;03m# Create percolated maze\u001b[39;00m\n\u001b[0;32m----> 3\u001b[0m inputs, solutions \u001b[38;5;241m=\u001b[39m \u001b[43mget_mazes\u001b[49m\u001b[43m(\u001b[49m\n\u001b[1;32m      4\u001b[0m \u001b[43m    \u001b[49m\u001b[43mdataset\u001b[49m\u001b[38;5;241;43m=\u001b[39;49m\u001b[38;5;124;43m'\u001b[39;49m\u001b[38;5;124;43mmaze-dataset\u001b[39;49m\u001b[38;5;124;43m'\u001b[39;49m\u001b[43m,\u001b[49m\u001b[43m \u001b[49m\n\u001b[1;32m      5\u001b[0m \u001b[43m    \u001b[49m\u001b[43mmaze_size\u001b[49m\u001b[38;5;241;43m=\u001b[39;49m\u001b[38;5;241;43m9\u001b[39;49m\u001b[43m,\u001b[49m\u001b[43m \u001b[49m\n\u001b[1;32m      6\u001b[0m \u001b[43m    \u001b[49m\u001b[43mnum_mazes\u001b[49m\u001b[38;5;241;43m=\u001b[39;49m\u001b[38;5;241;43m10\u001b[39;49m\u001b[43m,\u001b[49m\n\u001b[1;32m      7\u001b[0m \u001b[43m    \u001b[49m\u001b[43mpercolation\u001b[49m\u001b[38;5;241;43m=\u001b[39;49m\u001b[38;5;241;43m0.5\u001b[39;49m\u001b[43m,\u001b[49m\n\u001b[1;32m      8\u001b[0m \u001b[43m    \u001b[49m\u001b[43mdeadend_start\u001b[49m\u001b[38;5;241;43m=\u001b[39;49m\u001b[38;5;28;43;01mTrue\u001b[39;49;00m\u001b[43m)\u001b[49m\n\u001b[1;32m     10\u001b[0m plot_mazes(inputs, solutions\u001b[38;5;241m=\u001b[39msolutions, font_size\u001b[38;5;241m=\u001b[39m\u001b[38;5;241m20\u001b[39m, file_name\u001b[38;5;241m=\u001b[39m\u001b[38;5;124m'\u001b[39m\u001b[38;5;124moutputs/mazes/maze_percolated\u001b[39m\u001b[38;5;124m'\u001b[39m);\n",
      "File \u001b[0;32m~/DeepThinkingV2/src/utils/loading.py:83\u001b[0m, in \u001b[0;36mget_mazes\u001b[0;34m(dataset, maze_size, num_mazes, gen, percolation, deadend_start)\u001b[0m\n\u001b[1;32m     80\u001b[0m     maze_ctor_kwargs \u001b[38;5;241m=\u001b[39m \u001b[38;5;28mdict\u001b[39m(p\u001b[38;5;241m=\u001b[39mpercolation)\n\u001b[1;32m     81\u001b[0m endpoint_kwargs\u001b[38;5;241m=\u001b[39m\u001b[38;5;28mdict\u001b[39m(deadend_start\u001b[38;5;241m=\u001b[39mdeadend_start, endpoints_not_equal\u001b[38;5;241m=\u001b[39m\u001b[38;5;28;01mTrue\u001b[39;00m)\n\u001b[0;32m---> 83\u001b[0m base_dataset \u001b[38;5;241m=\u001b[39m \u001b[43mMazeDataset\u001b[49m\u001b[38;5;241;43m.\u001b[39;49m\u001b[43mfrom_config\u001b[49m\u001b[43m(\u001b[49m\n\u001b[1;32m     84\u001b[0m \u001b[43m    \u001b[49m\u001b[43mMazeDatasetConfig\u001b[49m\u001b[43m(\u001b[49m\n\u001b[1;32m     85\u001b[0m \u001b[43m        \u001b[49m\u001b[43mname\u001b[49m\u001b[38;5;241;43m=\u001b[39;49m\u001b[38;5;124;43m'\u001b[39;49m\u001b[38;5;124;43mtest\u001b[39;49m\u001b[38;5;124;43m'\u001b[39;49m\u001b[43m,\u001b[49m\n\u001b[1;32m     86\u001b[0m \u001b[43m        \u001b[49m\u001b[43mgrid_n\u001b[49m\u001b[38;5;241;43m=\u001b[39;49m\u001b[43mgrid_n\u001b[49m\u001b[43m,\u001b[49m\n\u001b[1;32m     87\u001b[0m \u001b[43m        \u001b[49m\u001b[43mn_mazes\u001b[49m\u001b[38;5;241;43m=\u001b[39;49m\u001b[43mnum_mazes\u001b[49m\u001b[43m,\u001b[49m\n\u001b[1;32m     88\u001b[0m \u001b[43m        \u001b[49m\u001b[43mseed\u001b[49m\u001b[38;5;241;43m=\u001b[39;49m\u001b[38;5;241;43m42\u001b[39;49m\u001b[43m,\u001b[49m\n\u001b[1;32m     89\u001b[0m \u001b[43m        \u001b[49m\u001b[43mmaze_ctor\u001b[49m\u001b[38;5;241;43m=\u001b[39;49m\u001b[43mmaze_ctor\u001b[49m\u001b[43m,\u001b[49m\u001b[43m \u001b[49m\n\u001b[1;32m     90\u001b[0m \u001b[43m        \u001b[49m\u001b[43mmaze_ctor_kwargs\u001b[49m\u001b[38;5;241;43m=\u001b[39;49m\u001b[43mmaze_ctor_kwargs\u001b[49m\u001b[43m,\u001b[49m\n\u001b[1;32m     91\u001b[0m \u001b[43m        \u001b[49m\u001b[43mendpoint_kwargs\u001b[49m\u001b[38;5;241;43m=\u001b[39;49m\u001b[43mendpoint_kwargs\u001b[49m\n\u001b[1;32m     92\u001b[0m \u001b[43m    \u001b[49m\u001b[43m)\u001b[49m\u001b[43m,\u001b[49m\n\u001b[1;32m     93\u001b[0m \u001b[43m    \u001b[49m\u001b[43mlocal_base_path\u001b[49m\u001b[38;5;241;43m=\u001b[39;49m\u001b[38;5;124;43m'\u001b[39;49m\u001b[38;5;124;43mdata/maze-dataset/\u001b[39;49m\u001b[38;5;124;43m'\u001b[39;49m\u001b[43m,\u001b[49m\n\u001b[1;32m     94\u001b[0m \u001b[43m\u001b[49m\u001b[43m)\u001b[49m\n\u001b[1;32m     96\u001b[0m \u001b[38;5;66;03m# Generate rasterized maze dataset\u001b[39;00m\n\u001b[1;32m     97\u001b[0m dataset \u001b[38;5;241m=\u001b[39m RasterizedMazeDataset\u001b[38;5;241m.\u001b[39mfrom_base_MazeDataset(\n\u001b[1;32m     98\u001b[0m     base_dataset\u001b[38;5;241m=\u001b[39mbase_dataset,\n\u001b[1;32m     99\u001b[0m     added_params\u001b[38;5;241m=\u001b[39m\u001b[38;5;28mdict\u001b[39m(\n\u001b[0;32m   (...)\u001b[0m\n\u001b[1;32m    102\u001b[0m     )\n\u001b[1;32m    103\u001b[0m )\n",
      "File \u001b[0;32m~/DeepThinkingV2/env/lib/python3.10/site-packages/maze_dataset/dataset/dataset.py:275\u001b[0m, in \u001b[0;36mGPTDataset.from_config\u001b[0;34m(cls, cfg, do_generate, load_local, save_local, zanj, do_download, local_base_path, except_on_config_mismatch, allow_generation_metadata_filter_mismatch, verbose, **kwargs)\u001b[0m\n\u001b[1;32m    273\u001b[0m \u001b[38;5;28;01mif\u001b[39;00m do_generate \u001b[38;5;129;01mand\u001b[39;00m output \u001b[38;5;129;01mis\u001b[39;00m \u001b[38;5;28;01mNone\u001b[39;00m:\n\u001b[1;32m    274\u001b[0m     print_log(\u001b[38;5;124m\"\u001b[39m\u001b[38;5;124mgenerating dataset...\u001b[39m\u001b[38;5;124m\"\u001b[39m)\n\u001b[0;32m--> 275\u001b[0m     output \u001b[38;5;241m=\u001b[39m \u001b[38;5;28;43mcls\u001b[39;49m\u001b[38;5;241;43m.\u001b[39;49m\u001b[43mgenerate\u001b[49m\u001b[43m(\u001b[49m\u001b[43mcfg\u001b[49m\u001b[43m,\u001b[49m\u001b[43m \u001b[49m\u001b[43mverbose\u001b[49m\u001b[38;5;241;43m=\u001b[39;49m\u001b[43mverbose\u001b[49m\u001b[43m,\u001b[49m\u001b[43m \u001b[49m\u001b[38;5;241;43m*\u001b[39;49m\u001b[38;5;241;43m*\u001b[39;49m\u001b[43mkwargs\u001b[49m\u001b[43m)\u001b[49m\n\u001b[1;32m    276\u001b[0m     \u001b[38;5;66;03m# only if we generated it, apply filters\u001b[39;00m\n\u001b[1;32m    277\u001b[0m     output \u001b[38;5;241m=\u001b[39m output\u001b[38;5;241m.\u001b[39m_apply_filters_from_config()\n",
      "File \u001b[0;32m~/DeepThinkingV2/env/lib/python3.10/site-packages/maze_dataset/dataset/maze_dataset.py:325\u001b[0m, in \u001b[0;36mMazeDataset.generate\u001b[0;34m(cls, cfg, gen_parallel, pool_kwargs, verbose)\u001b[0m\n\u001b[1;32m    323\u001b[0m \u001b[38;5;28;01melse\u001b[39;00m:\n\u001b[1;32m    324\u001b[0m     _maze_gen_init_worker(cfg_cpy)\n\u001b[0;32m--> 325\u001b[0m     solved_mazes \u001b[38;5;241m=\u001b[39m \u001b[38;5;28;43mlist\u001b[39;49m\u001b[43m(\u001b[49m\n\u001b[1;32m    326\u001b[0m \u001b[43m        \u001b[49m\u001b[43mtqdm\u001b[49m\u001b[38;5;241;43m.\u001b[39;49m\u001b[43mtqdm\u001b[49m\u001b[43m(\u001b[49m\n\u001b[1;32m    327\u001b[0m \u001b[43m            \u001b[49m\u001b[38;5;28;43mmap\u001b[39;49m\u001b[43m(\u001b[49m\n\u001b[1;32m    328\u001b[0m \u001b[43m                \u001b[49m\u001b[43m_generate_maze_helper\u001b[49m\u001b[43m,\u001b[49m\n\u001b[1;32m    329\u001b[0m \u001b[43m                \u001b[49m\u001b[43mmaze_indexes\u001b[49m\u001b[43m,\u001b[49m\n\u001b[1;32m    330\u001b[0m \u001b[43m            \u001b[49m\u001b[43m)\u001b[49m\u001b[43m,\u001b[49m\n\u001b[1;32m    331\u001b[0m \u001b[43m            \u001b[49m\u001b[38;5;241;43m*\u001b[39;49m\u001b[38;5;241;43m*\u001b[39;49m\u001b[43mtqdm_kwargs\u001b[49m\u001b[43m,\u001b[49m\n\u001b[1;32m    332\u001b[0m \u001b[43m        \u001b[49m\u001b[43m)\u001b[49m\n\u001b[1;32m    333\u001b[0m \u001b[43m    \u001b[49m\u001b[43m)\u001b[49m\n\u001b[1;32m    334\u001b[0m \u001b[38;5;66;03m# reset seed to default value\u001b[39;00m\n\u001b[1;32m    335\u001b[0m np\u001b[38;5;241m.\u001b[39mrandom\u001b[38;5;241m.\u001b[39mseed(cfg_cpy\u001b[38;5;241m.\u001b[39mseed)\n",
      "File \u001b[0;32m~/DeepThinkingV2/env/lib/python3.10/site-packages/tqdm/std.py:1169\u001b[0m, in \u001b[0;36mtqdm.__iter__\u001b[0;34m(self)\u001b[0m\n\u001b[1;32m   1166\u001b[0m \u001b[38;5;66;03m# If the bar is disabled, then just walk the iterable\u001b[39;00m\n\u001b[1;32m   1167\u001b[0m \u001b[38;5;66;03m# (note: keep this check outside the loop for performance)\u001b[39;00m\n\u001b[1;32m   1168\u001b[0m \u001b[38;5;28;01mif\u001b[39;00m \u001b[38;5;28mself\u001b[39m\u001b[38;5;241m.\u001b[39mdisable:\n\u001b[0;32m-> 1169\u001b[0m     \u001b[38;5;28;01mfor\u001b[39;00m obj \u001b[38;5;129;01min\u001b[39;00m iterable:\n\u001b[1;32m   1170\u001b[0m         \u001b[38;5;28;01myield\u001b[39;00m obj\n\u001b[1;32m   1171\u001b[0m     \u001b[38;5;28;01mreturn\u001b[39;00m\n",
      "File \u001b[0;32m~/DeepThinkingV2/env/lib/python3.10/site-packages/maze_dataset/dataset/maze_dataset.py:187\u001b[0m, in \u001b[0;36m_generate_maze_helper\u001b[0;34m(index)\u001b[0m\n\u001b[1;32m    182\u001b[0m \u001b[38;5;66;03m# TODO: don't use this unless generating in parallel!\u001b[39;00m\n\u001b[1;32m    183\u001b[0m maze: LatticeMaze \u001b[38;5;241m=\u001b[39m _GLOBAL_WORKER_CONFIG\u001b[38;5;241m.\u001b[39mmaze_ctor(\n\u001b[1;32m    184\u001b[0m     grid_shape\u001b[38;5;241m=\u001b[39m_GLOBAL_WORKER_CONFIG\u001b[38;5;241m.\u001b[39mgrid_shape_np,\n\u001b[1;32m    185\u001b[0m     \u001b[38;5;241m*\u001b[39m\u001b[38;5;241m*\u001b[39m_GLOBAL_WORKER_CONFIG\u001b[38;5;241m.\u001b[39mmaze_ctor_kwargs,\n\u001b[1;32m    186\u001b[0m )\n\u001b[0;32m--> 187\u001b[0m solution \u001b[38;5;241m=\u001b[39m \u001b[43mmaze\u001b[49m\u001b[38;5;241;43m.\u001b[39;49m\u001b[43mgenerate_random_path\u001b[49m\u001b[43m(\u001b[49m\u001b[38;5;241;43m*\u001b[39;49m\u001b[38;5;241;43m*\u001b[39;49m\u001b[43m_GLOBAL_WORKER_CONFIG\u001b[49m\u001b[38;5;241;43m.\u001b[39;49m\u001b[43mendpoint_kwargs\u001b[49m\u001b[43m)\u001b[49m\n\u001b[1;32m    188\u001b[0m \u001b[38;5;28;01massert\u001b[39;00m solution \u001b[38;5;129;01mis\u001b[39;00m \u001b[38;5;129;01mnot\u001b[39;00m \u001b[38;5;28;01mNone\u001b[39;00m, \u001b[38;5;124mf\u001b[39m\u001b[38;5;124m\"\u001b[39m\u001b[38;5;132;01m{\u001b[39;00msolution\u001b[38;5;250m \u001b[39m\u001b[38;5;132;01m= }\u001b[39;00m\u001b[38;5;124m\"\u001b[39m\n\u001b[1;32m    189\u001b[0m \u001b[38;5;28;01massert\u001b[39;00m \u001b[38;5;28mlen\u001b[39m(solution) \u001b[38;5;241m>\u001b[39m \u001b[38;5;241m0\u001b[39m, \u001b[38;5;124mf\u001b[39m\u001b[38;5;124m\"\u001b[39m\u001b[38;5;132;01m{\u001b[39;00msolution\u001b[38;5;250m \u001b[39m\u001b[38;5;132;01m= }\u001b[39;00m\u001b[38;5;124m\"\u001b[39m\n",
      "File \u001b[0;32m~/DeepThinkingV2/env/lib/python3.10/site-packages/maze_dataset/maze/lattice_maze.py:471\u001b[0m, in \u001b[0;36mLatticeMaze.generate_random_path\u001b[0;34m(self, except_when_invalid, allowed_start, allowed_end, deadend_start, deadend_end, endpoints_not_equal)\u001b[0m\n\u001b[1;32m    469\u001b[0m \u001b[38;5;66;03m# check we have valid positions\u001b[39;00m\n\u001b[1;32m    470\u001b[0m \u001b[38;5;28;01mif\u001b[39;00m \u001b[38;5;28mlen\u001b[39m(allowed_start_set) \u001b[38;5;241m==\u001b[39m \u001b[38;5;241m0\u001b[39m \u001b[38;5;129;01mor\u001b[39;00m \u001b[38;5;28mlen\u001b[39m(allowed_end_set) \u001b[38;5;241m==\u001b[39m \u001b[38;5;241m0\u001b[39m:\n\u001b[0;32m--> 471\u001b[0m     \u001b[38;5;28;01mraise\u001b[39;00m \u001b[38;5;167;01mValueError\u001b[39;00m(\u001b[38;5;124m\"\u001b[39m\u001b[38;5;124mno valid start or end positions found\u001b[39m\u001b[38;5;124m\"\u001b[39m)\n\u001b[1;32m    473\u001b[0m \u001b[38;5;66;03m# randomly select start and end positions\u001b[39;00m\n\u001b[1;32m    474\u001b[0m start_pos: CoordTup \u001b[38;5;241m=\u001b[39m \u001b[38;5;28mtuple\u001b[39m(\n\u001b[1;32m    475\u001b[0m     \u001b[38;5;28mlist\u001b[39m(allowed_start_set)[np\u001b[38;5;241m.\u001b[39mrandom\u001b[38;5;241m.\u001b[39mrandint(\u001b[38;5;241m0\u001b[39m, \u001b[38;5;28mlen\u001b[39m(allowed_start_set))]\n\u001b[1;32m    476\u001b[0m )\n",
      "\u001b[0;31mValueError\u001b[0m: no valid start or end positions found"
     ]
    }
   ],
   "source": [
    "# Create percolated maze\n",
    "\n",
    "inputs, solutions = get_mazes(\n",
    "    dataset='maze-dataset', \n",
    "    maze_size=9, \n",
    "    num_mazes=10,\n",
    "    percolation=0.5,\n",
    "    deadend_start=True)\n",
    "\n",
    "plot_mazes(inputs, solutions=solutions, font_size=20, file_name='outputs/mazes/maze_percolated');"
   ]
  },
  {
   "cell_type": "code",
   "execution_count": null,
   "metadata": {},
   "outputs": [],
   "source": [
    "# Plot predictions too\n",
    "\n",
    "# model = load_model('dt_net')\n",
    "# predictions = model.predict(inputs, iters=30)\n",
    "# plot_mazes(inputs, predictions=predictions, solutions=solutions, font_size=20, file_name='outputs/mazes/maze_percolated_prediction');"
   ]
  }
 ],
 "metadata": {
  "kernelspec": {
   "display_name": "env",
   "language": "python",
   "name": "python3"
  },
  "language_info": {
   "codemirror_mode": {
    "name": "ipython",
    "version": 3
   },
   "file_extension": ".py",
   "mimetype": "text/x-python",
   "name": "python",
   "nbconvert_exporter": "python",
   "pygments_lexer": "ipython3",
   "version": "3.8.10"
  }
 },
 "nbformat": 4,
 "nbformat_minor": 2
}
