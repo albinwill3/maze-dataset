{
 "cells": [
  {
   "cell_type": "code",
   "execution_count": 1,
   "metadata": {},
   "outputs": [],
   "source": [
    "# Import necessary modules\n",
    "import sys\n",
    "import os\n",
    "\n",
    "# Ensure the current directory (root folder) is in the Python module path\n",
    "sys.path.append(os.getcwd())\n",
    "\n",
    "import torch\n",
    "from maze_dataset.generation import LatticeMazeGenerators\n",
    "from maze_dataset.dataset.rasterized import MazeDatasetConfig, MazeDataset, RasterizedMazeDataset"
   ]
  },
  {
   "cell_type": "code",
   "execution_count": 2,
   "metadata": {},
   "outputs": [],
   "source": [
    "def get_device():\n",
    "    \"\"\" Use CUDA or MPS if available, otherwise use CPU \"\"\"\n",
    "    if torch.cuda.is_available():\n",
    "        return torch.device('cuda')\n",
    "    elif torch.backends.mps.is_available():\n",
    "        return torch.device('mps')\n",
    "    else:\n",
    "        return torch.device('cpu')"
   ]
  },
  {
   "cell_type": "code",
   "execution_count": 3,
   "metadata": {},
   "outputs": [],
   "source": [
    "def get_mazes(maze_size=9, num_mazes=10, gen='dfs_perc', percolation=0.0, deadend_start=True):\n",
    "    \"\"\" Generate mazes of the given size and number, \n",
    "        from the given dataset, and load to device\"\"\"\n",
    "    \n",
    "    assert maze_size % 2 == 1\n",
    "    grid_n = (maze_size + 1) // 2\n",
    "    \n",
    "    # Generate base maze dataset\n",
    "    if gen == 'dfs':\n",
    "        maze_ctor = LatticeMazeGenerators.gen_dfs\n",
    "        maze_ctor_kwargs = dict()\n",
    "    elif gen == 'dfs_perc':\n",
    "        maze_ctor = LatticeMazeGenerators.gen_dfs_percolation\n",
    "        maze_ctor_kwargs = dict(p=percolation)\n",
    "    elif gen == 'percolation':\n",
    "        maze_ctor = LatticeMazeGenerators.gen_percolation\n",
    "        maze_ctor_kwargs = dict(p=percolation)\n",
    "    endpoint_kwargs=dict(deadend_start=deadend_start, \n",
    "                         endpoints_not_equal=True,\n",
    "                         except_on_no_valid_endpoint=True)\n",
    "\n",
    "    base_dataset = MazeDataset.from_config(\n",
    "        MazeDatasetConfig(\n",
    "            name='test',\n",
    "            grid_n=grid_n,\n",
    "            n_mazes=num_mazes,\n",
    "            seed=42,\n",
    "            maze_ctor=maze_ctor, \n",
    "            maze_ctor_kwargs=maze_ctor_kwargs,\n",
    "            endpoint_kwargs=endpoint_kwargs\n",
    "        ),\n",
    "        gen_parallel = True,\n",
    "        local_base_path='data/maze_dataset/',\n",
    "    )\n",
    "\n",
    "    # Generate rasterized maze dataset\n",
    "    dataset = RasterizedMazeDataset.from_base_MazeDataset(\n",
    "        base_dataset=base_dataset,\n",
    "        added_params=dict(\n",
    "            remove_isolated_cells=True,\n",
    "            extend_pixels=True, # maps from 1x1 to 2x2 pixels and adds 3 padding\n",
    "        )\n",
    "    )\n",
    "\n",
    "    dataset = dataset.get_batch(idxs=None)\n",
    "\n",
    "    # Get inputs\n",
    "    inputs = dataset[0,:,:,:]\n",
    "    inputs = inputs / 255.0\n",
    "    inputs = inputs.permute(0, 3, 1, 2)\n",
    "    inputs = inputs.float().detach().to(get_device(), dtype=torch.float32)\n",
    "\n",
    "    # Get solutions\n",
    "    solutions = dataset[1,:,:, :]\n",
    "    solutions = solutions / 255.0\n",
    "    solutions = solutions.permute(0, 3, 1, 2)\n",
    "    solutions, _ = torch.max(solutions, dim=1)\n",
    "    solutions = solutions.float().detach().to(get_device(), dtype=torch.float32) \n",
    "\n",
    "    return inputs, solutions"
   ]
  },
  {
   "cell_type": "code",
   "execution_count": 4,
   "metadata": {},
   "outputs": [
    {
     "ename": "TypeError",
     "evalue": "LatticeMaze.generate_random_path() got an unexpected keyword argument 'except_on_no_valid_endpoint'",
     "output_type": "error",
     "traceback": [
      "\u001b[0;31m---------------------------------------------------------------------------\u001b[0m",
      "\u001b[0;31mRemoteTraceback\u001b[0m                           Traceback (most recent call last)",
      "\u001b[0;31mRemoteTraceback\u001b[0m: \n\"\"\"\nTraceback (most recent call last):\n  File \"/opt/homebrew/Cellar/python@3.10/3.10.11/Frameworks/Python.framework/Versions/3.10/lib/python3.10/multiprocessing/pool.py\", line 125, in worker\n    result = (True, func(*args, **kwds))\n  File \"/Users/brandon/Library/CloudStorage/Dropbox/Mac/Documents/maze-dataset/maze_dataset/dataset/maze_dataset.py\", line 190, in _generate_maze_helper\n    solution = maze.generate_random_path(**_GLOBAL_WORKER_CONFIG.endpoint_kwargs)\nTypeError: LatticeMaze.generate_random_path() got an unexpected keyword argument 'except_on_no_valid_endpoint'\n\"\"\"",
      "\nThe above exception was the direct cause of the following exception:\n",
      "\u001b[0;31mTypeError\u001b[0m                                 Traceback (most recent call last)",
      "Cell \u001b[0;32mIn[4], line 3\u001b[0m\n\u001b[1;32m      1\u001b[0m \u001b[38;5;66;03m# Create percolated maze\u001b[39;00m\n\u001b[0;32m----> 3\u001b[0m inputs, solutions \u001b[38;5;241m=\u001b[39m \u001b[43mget_mazes\u001b[49m\u001b[43m(\u001b[49m\n\u001b[1;32m      4\u001b[0m \u001b[43m    \u001b[49m\u001b[43mmaze_size\u001b[49m\u001b[38;5;241;43m=\u001b[39;49m\u001b[38;5;241;43m9\u001b[39;49m\u001b[43m,\u001b[49m\u001b[43m \u001b[49m\n\u001b[1;32m      5\u001b[0m \u001b[43m    \u001b[49m\u001b[43mnum_mazes\u001b[49m\u001b[38;5;241;43m=\u001b[39;49m\u001b[38;5;241;43m10\u001b[39;49m\u001b[43m,\u001b[49m\n\u001b[1;32m      6\u001b[0m \u001b[43m    \u001b[49m\u001b[43mpercolation\u001b[49m\u001b[38;5;241;43m=\u001b[39;49m\u001b[38;5;241;43m0.5\u001b[39;49m\u001b[43m,\u001b[49m\n\u001b[1;32m      7\u001b[0m \u001b[43m    \u001b[49m\u001b[43mdeadend_start\u001b[49m\u001b[38;5;241;43m=\u001b[39;49m\u001b[38;5;28;43;01mTrue\u001b[39;49;00m\u001b[43m)\u001b[49m\n",
      "Cell \u001b[0;32mIn[3], line 22\u001b[0m, in \u001b[0;36mget_mazes\u001b[0;34m(maze_size, num_mazes, gen, percolation, deadend_start)\u001b[0m\n\u001b[1;32m     17\u001b[0m     maze_ctor_kwargs \u001b[38;5;241m=\u001b[39m \u001b[38;5;28mdict\u001b[39m(p\u001b[38;5;241m=\u001b[39mpercolation)\n\u001b[1;32m     18\u001b[0m endpoint_kwargs\u001b[38;5;241m=\u001b[39m\u001b[38;5;28mdict\u001b[39m(deadend_start\u001b[38;5;241m=\u001b[39mdeadend_start, \n\u001b[1;32m     19\u001b[0m                      endpoints_not_equal\u001b[38;5;241m=\u001b[39m\u001b[38;5;28;01mTrue\u001b[39;00m,\n\u001b[1;32m     20\u001b[0m                      except_on_no_valid_endpoint\u001b[38;5;241m=\u001b[39m\u001b[38;5;28;01mTrue\u001b[39;00m)\n\u001b[0;32m---> 22\u001b[0m base_dataset \u001b[38;5;241m=\u001b[39m \u001b[43mMazeDataset\u001b[49m\u001b[38;5;241;43m.\u001b[39;49m\u001b[43mfrom_config\u001b[49m\u001b[43m(\u001b[49m\n\u001b[1;32m     23\u001b[0m \u001b[43m    \u001b[49m\u001b[43mMazeDatasetConfig\u001b[49m\u001b[43m(\u001b[49m\n\u001b[1;32m     24\u001b[0m \u001b[43m        \u001b[49m\u001b[43mname\u001b[49m\u001b[38;5;241;43m=\u001b[39;49m\u001b[38;5;124;43m'\u001b[39;49m\u001b[38;5;124;43mtest\u001b[39;49m\u001b[38;5;124;43m'\u001b[39;49m\u001b[43m,\u001b[49m\n\u001b[1;32m     25\u001b[0m \u001b[43m        \u001b[49m\u001b[43mgrid_n\u001b[49m\u001b[38;5;241;43m=\u001b[39;49m\u001b[43mgrid_n\u001b[49m\u001b[43m,\u001b[49m\n\u001b[1;32m     26\u001b[0m \u001b[43m        \u001b[49m\u001b[43mn_mazes\u001b[49m\u001b[38;5;241;43m=\u001b[39;49m\u001b[43mnum_mazes\u001b[49m\u001b[43m,\u001b[49m\n\u001b[1;32m     27\u001b[0m \u001b[43m        \u001b[49m\u001b[43mseed\u001b[49m\u001b[38;5;241;43m=\u001b[39;49m\u001b[38;5;241;43m42\u001b[39;49m\u001b[43m,\u001b[49m\n\u001b[1;32m     28\u001b[0m \u001b[43m        \u001b[49m\u001b[43mmaze_ctor\u001b[49m\u001b[38;5;241;43m=\u001b[39;49m\u001b[43mmaze_ctor\u001b[49m\u001b[43m,\u001b[49m\u001b[43m \u001b[49m\n\u001b[1;32m     29\u001b[0m \u001b[43m        \u001b[49m\u001b[43mmaze_ctor_kwargs\u001b[49m\u001b[38;5;241;43m=\u001b[39;49m\u001b[43mmaze_ctor_kwargs\u001b[49m\u001b[43m,\u001b[49m\n\u001b[1;32m     30\u001b[0m \u001b[43m        \u001b[49m\u001b[43mendpoint_kwargs\u001b[49m\u001b[38;5;241;43m=\u001b[39;49m\u001b[43mendpoint_kwargs\u001b[49m\n\u001b[1;32m     31\u001b[0m \u001b[43m    \u001b[49m\u001b[43m)\u001b[49m\u001b[43m,\u001b[49m\n\u001b[1;32m     32\u001b[0m \u001b[43m    \u001b[49m\u001b[43mgen_parallel\u001b[49m\u001b[43m \u001b[49m\u001b[38;5;241;43m=\u001b[39;49m\u001b[43m \u001b[49m\u001b[38;5;28;43;01mTrue\u001b[39;49;00m\u001b[43m,\u001b[49m\n\u001b[1;32m     33\u001b[0m \u001b[43m    \u001b[49m\u001b[43mlocal_base_path\u001b[49m\u001b[38;5;241;43m=\u001b[39;49m\u001b[38;5;124;43m'\u001b[39;49m\u001b[38;5;124;43mdata/maze_dataset/\u001b[39;49m\u001b[38;5;124;43m'\u001b[39;49m\u001b[43m,\u001b[49m\n\u001b[1;32m     34\u001b[0m \u001b[43m\u001b[49m\u001b[43m)\u001b[49m\n\u001b[1;32m     36\u001b[0m \u001b[38;5;66;03m# Generate rasterized maze dataset\u001b[39;00m\n\u001b[1;32m     37\u001b[0m dataset \u001b[38;5;241m=\u001b[39m RasterizedMazeDataset\u001b[38;5;241m.\u001b[39mfrom_base_MazeDataset(\n\u001b[1;32m     38\u001b[0m     base_dataset\u001b[38;5;241m=\u001b[39mbase_dataset,\n\u001b[1;32m     39\u001b[0m     added_params\u001b[38;5;241m=\u001b[39m\u001b[38;5;28mdict\u001b[39m(\n\u001b[0;32m   (...)\u001b[0m\n\u001b[1;32m     42\u001b[0m     )\n\u001b[1;32m     43\u001b[0m )\n",
      "File \u001b[0;32m~/Library/CloudStorage/Dropbox/Mac/Documents/maze-dataset/maze_dataset/dataset/dataset.py:275\u001b[0m, in \u001b[0;36mGPTDataset.from_config\u001b[0;34m(cls, cfg, do_generate, load_local, save_local, zanj, do_download, local_base_path, except_on_config_mismatch, allow_generation_metadata_filter_mismatch, verbose, **kwargs)\u001b[0m\n\u001b[1;32m    273\u001b[0m \u001b[38;5;28;01mif\u001b[39;00m do_generate \u001b[38;5;129;01mand\u001b[39;00m output \u001b[38;5;129;01mis\u001b[39;00m \u001b[38;5;28;01mNone\u001b[39;00m:\n\u001b[1;32m    274\u001b[0m     print_log(\u001b[38;5;124m\"\u001b[39m\u001b[38;5;124mgenerating dataset...\u001b[39m\u001b[38;5;124m\"\u001b[39m)\n\u001b[0;32m--> 275\u001b[0m     output \u001b[38;5;241m=\u001b[39m \u001b[38;5;28;43mcls\u001b[39;49m\u001b[38;5;241;43m.\u001b[39;49m\u001b[43mgenerate\u001b[49m\u001b[43m(\u001b[49m\u001b[43mcfg\u001b[49m\u001b[43m,\u001b[49m\u001b[43m \u001b[49m\u001b[43mverbose\u001b[49m\u001b[38;5;241;43m=\u001b[39;49m\u001b[43mverbose\u001b[49m\u001b[43m,\u001b[49m\u001b[43m \u001b[49m\u001b[38;5;241;43m*\u001b[39;49m\u001b[38;5;241;43m*\u001b[39;49m\u001b[43mkwargs\u001b[49m\u001b[43m)\u001b[49m\n\u001b[1;32m    276\u001b[0m     \u001b[38;5;66;03m# only if we generated it, apply filters\u001b[39;00m\n\u001b[1;32m    277\u001b[0m     output \u001b[38;5;241m=\u001b[39m output\u001b[38;5;241m.\u001b[39m_apply_filters_from_config()\n",
      "File \u001b[0;32m~/Library/CloudStorage/Dropbox/Mac/Documents/maze-dataset/maze_dataset/dataset/maze_dataset.py:321\u001b[0m, in \u001b[0;36mMazeDataset.generate\u001b[0;34m(cls, cfg, gen_parallel, pool_kwargs, verbose)\u001b[0m\n\u001b[1;32m    315\u001b[0m \u001b[38;5;28;01mif\u001b[39;00m gen_parallel:\n\u001b[1;32m    316\u001b[0m     \u001b[38;5;28;01mwith\u001b[39;00m multiprocessing\u001b[38;5;241m.\u001b[39mPool(\n\u001b[1;32m    317\u001b[0m         \u001b[38;5;241m*\u001b[39m\u001b[38;5;241m*\u001b[39mpool_kwargs,\n\u001b[1;32m    318\u001b[0m         initializer\u001b[38;5;241m=\u001b[39m_maze_gen_init_worker,\n\u001b[1;32m    319\u001b[0m         initargs\u001b[38;5;241m=\u001b[39m(cfg_cpy,),\n\u001b[1;32m    320\u001b[0m     ) \u001b[38;5;28;01mas\u001b[39;00m pool:\n\u001b[0;32m--> 321\u001b[0m         solved_mazes \u001b[38;5;241m=\u001b[39m \u001b[38;5;28;43mlist\u001b[39;49m\u001b[43m(\u001b[49m\n\u001b[1;32m    322\u001b[0m \u001b[43m            \u001b[49m\u001b[43mtqdm\u001b[49m\u001b[38;5;241;43m.\u001b[39;49m\u001b[43mtqdm\u001b[49m\u001b[43m(\u001b[49m\n\u001b[1;32m    323\u001b[0m \u001b[43m                \u001b[49m\u001b[43mpool\u001b[49m\u001b[38;5;241;43m.\u001b[39;49m\u001b[43mimap\u001b[49m\u001b[43m(\u001b[49m\n\u001b[1;32m    324\u001b[0m \u001b[43m                    \u001b[49m\u001b[43m_generate_maze_helper\u001b[49m\u001b[43m,\u001b[49m\n\u001b[1;32m    325\u001b[0m \u001b[43m                    \u001b[49m\u001b[43mmaze_indexes\u001b[49m\u001b[43m,\u001b[49m\n\u001b[1;32m    326\u001b[0m \u001b[43m                \u001b[49m\u001b[43m)\u001b[49m\u001b[43m,\u001b[49m\n\u001b[1;32m    327\u001b[0m \u001b[43m                \u001b[49m\u001b[38;5;241;43m*\u001b[39;49m\u001b[38;5;241;43m*\u001b[39;49m\u001b[43mtqdm_kwargs\u001b[49m\u001b[43m,\u001b[49m\n\u001b[1;32m    328\u001b[0m \u001b[43m            \u001b[49m\u001b[43m)\u001b[49m\n\u001b[1;32m    329\u001b[0m \u001b[43m        \u001b[49m\u001b[43m)\u001b[49m\n\u001b[1;32m    330\u001b[0m \u001b[38;5;28;01melse\u001b[39;00m:\n\u001b[1;32m    331\u001b[0m     _maze_gen_init_worker(cfg_cpy)\n",
      "File \u001b[0;32m~/Library/CloudStorage/Dropbox/Mac/Documents/maze-dataset/.venv/lib/python3.10/site-packages/tqdm/std.py:1169\u001b[0m, in \u001b[0;36mtqdm.__iter__\u001b[0;34m(self)\u001b[0m\n\u001b[1;32m   1166\u001b[0m \u001b[38;5;66;03m# If the bar is disabled, then just walk the iterable\u001b[39;00m\n\u001b[1;32m   1167\u001b[0m \u001b[38;5;66;03m# (note: keep this check outside the loop for performance)\u001b[39;00m\n\u001b[1;32m   1168\u001b[0m \u001b[38;5;28;01mif\u001b[39;00m \u001b[38;5;28mself\u001b[39m\u001b[38;5;241m.\u001b[39mdisable:\n\u001b[0;32m-> 1169\u001b[0m     \u001b[38;5;28;01mfor\u001b[39;00m obj \u001b[38;5;129;01min\u001b[39;00m iterable:\n\u001b[1;32m   1170\u001b[0m         \u001b[38;5;28;01myield\u001b[39;00m obj\n\u001b[1;32m   1171\u001b[0m     \u001b[38;5;28;01mreturn\u001b[39;00m\n",
      "File \u001b[0;32m/opt/homebrew/Cellar/python@3.10/3.10.11/Frameworks/Python.framework/Versions/3.10/lib/python3.10/multiprocessing/pool.py:873\u001b[0m, in \u001b[0;36mIMapIterator.next\u001b[0;34m(self, timeout)\u001b[0m\n\u001b[1;32m    871\u001b[0m \u001b[38;5;28;01mif\u001b[39;00m success:\n\u001b[1;32m    872\u001b[0m     \u001b[38;5;28;01mreturn\u001b[39;00m value\n\u001b[0;32m--> 873\u001b[0m \u001b[38;5;28;01mraise\u001b[39;00m value\n",
      "\u001b[0;31mTypeError\u001b[0m: LatticeMaze.generate_random_path() got an unexpected keyword argument 'except_on_no_valid_endpoint'"
     ]
    }
   ],
   "source": [
    "# Create percolated maze\n",
    "\n",
    "inputs, solutions = get_mazes(\n",
    "    maze_size=9, \n",
    "    num_mazes=10,\n",
    "    percolation=0.5,\n",
    "    deadend_start=True)"
   ]
  }
 ],
 "metadata": {
  "kernelspec": {
   "display_name": ".venv",
   "language": "python",
   "name": "python3"
  },
  "language_info": {
   "codemirror_mode": {
    "name": "ipython",
    "version": 3
   },
   "file_extension": ".py",
   "mimetype": "text/x-python",
   "name": "python",
   "nbconvert_exporter": "python",
   "pygments_lexer": "ipython3",
   "version": "3.10.11"
  }
 },
 "nbformat": 4,
 "nbformat_minor": 2
}
