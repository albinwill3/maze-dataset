{
 "cells": [
  {
   "cell_type": "code",
   "execution_count": 1,
   "metadata": {},
   "outputs": [],
   "source": [
    "# Import necessary modules\n",
    "import sys\n",
    "import os\n",
    "\n",
    "# Ensure the current directory (root folder) is in the Python module path\n",
    "sys.path.append(os.getcwd())\n",
    "\n",
    "import torch\n",
    "from maze_dataset.generation import LatticeMazeGenerators\n",
    "from maze_dataset.dataset.rasterized import MazeDatasetConfig, MazeDataset, RasterizedMazeDataset"
   ]
  },
  {
   "cell_type": "code",
   "execution_count": 2,
   "metadata": {},
   "outputs": [],
   "source": [
    "def get_device():\n",
    "    \"\"\" Use CUDA or MPS if available, otherwise use CPU \"\"\"\n",
    "    if torch.cuda.is_available():\n",
    "        return torch.device('cuda')\n",
    "    elif torch.backends.mps.is_available():\n",
    "        return torch.device('mps')\n",
    "    else:\n",
    "        return torch.device('cpu')"
   ]
  },
  {
   "cell_type": "code",
   "execution_count": 3,
   "metadata": {},
   "outputs": [],
   "source": [
    "def get_mazes(maze_size=9, num_mazes=10, gen='dfs_perc', percolation=0.0, deadend_start=True):\n",
    "    \"\"\" Generate mazes of the given size and number, \n",
    "        from the given dataset, and load to device\"\"\"\n",
    "    \n",
    "    assert maze_size % 2 == 1\n",
    "    grid_n = (maze_size + 1) // 2\n",
    "    \n",
    "    # Generate base maze dataset\n",
    "    if gen == 'dfs':\n",
    "        maze_ctor = LatticeMazeGenerators.gen_dfs\n",
    "        maze_ctor_kwargs = dict()\n",
    "    elif gen == 'dfs_perc':\n",
    "        maze_ctor = LatticeMazeGenerators.gen_dfs_percolation\n",
    "        maze_ctor_kwargs = dict(p=percolation)\n",
    "    elif gen == 'percolation':\n",
    "        maze_ctor = LatticeMazeGenerators.gen_percolation\n",
    "        maze_ctor_kwargs = dict(p=percolation)\n",
    "    endpoint_kwargs=dict(deadend_start=deadend_start, endpoints_not_equal=True)\n",
    "\n",
    "    base_dataset = MazeDataset.from_config(\n",
    "        MazeDatasetConfig(\n",
    "            name='test',\n",
    "            grid_n=grid_n,\n",
    "            n_mazes=num_mazes,\n",
    "            seed=42,\n",
    "            maze_ctor=maze_ctor, \n",
    "            maze_ctor_kwargs=maze_ctor_kwargs,\n",
    "            endpoint_kwargs=endpoint_kwargs\n",
    "        ),\n",
    "        gen_parallel = True,\n",
    "        local_base_path='data/maze_dataset/',\n",
    "    )\n",
    "\n",
    "    # Generate rasterized maze dataset\n",
    "    dataset = RasterizedMazeDataset.from_base_MazeDataset(\n",
    "        base_dataset=base_dataset,\n",
    "        added_params=dict(\n",
    "            remove_isolated_cells=True,\n",
    "            extend_pixels=True, # maps from 1x1 to 2x2 pixels and adds 3 padding\n",
    "        )\n",
    "    )\n",
    "\n",
    "    dataset = dataset.get_batch(idxs=None)\n",
    "\n",
    "    # Get inputs\n",
    "    inputs = dataset[0,:,:,:]\n",
    "    inputs = inputs / 255.0\n",
    "    inputs = inputs.permute(0, 3, 1, 2)\n",
    "    inputs = inputs.float().detach().to(get_device(), dtype=torch.float32)\n",
    "\n",
    "    # Get solutions\n",
    "    solutions = dataset[1,:,:, :]\n",
    "    solutions = solutions / 255.0\n",
    "    solutions = solutions.permute(0, 3, 1, 2)\n",
    "    solutions, _ = torch.max(solutions, dim=1)\n",
    "    solutions = solutions.float().detach().to(get_device(), dtype=torch.float32) \n",
    "\n",
    "    return inputs, solutions"
   ]
  },
  {
   "cell_type": "code",
   "execution_count": 5,
   "metadata": {},
   "outputs": [],
   "source": [
    "# Create percolated maze\n",
    "\n",
    "inputs, solutions = get_mazes(\n",
    "    maze_size=9, \n",
    "    num_mazes=10,\n",
    "    percolation=0.0,\n",
    "    deadend_start=True)"
   ]
  }
 ],
 "metadata": {
  "kernelspec": {
   "display_name": ".venv",
   "language": "python",
   "name": "python3"
  },
  "language_info": {
   "codemirror_mode": {
    "name": "ipython",
    "version": 3
   },
   "file_extension": ".py",
   "mimetype": "text/x-python",
   "name": "python",
   "nbconvert_exporter": "python",
   "pygments_lexer": "ipython3",
   "version": "3.10.11"
  }
 },
 "nbformat": 4,
 "nbformat_minor": 2
}
