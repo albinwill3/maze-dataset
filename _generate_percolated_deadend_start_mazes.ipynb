{
 "cells": [
  {
   "cell_type": "code",
   "execution_count": 1,
   "metadata": {},
   "outputs": [],
   "source": [
    "# Import necessary modules\n",
    "import sys\n",
    "import os\n",
    "\n",
    "# Ensure the current directory (root folder) is in the Python module path\n",
    "sys.path.append(os.getcwd())\n",
    "\n",
    "import torch\n",
    "from maze_dataset.generation import LatticeMazeGenerators\n",
    "from maze_dataset.dataset.rasterized import MazeDatasetConfig, MazeDataset, RasterizedMazeDataset"
   ]
  },
  {
   "cell_type": "code",
   "execution_count": 2,
   "metadata": {},
   "outputs": [],
   "source": [
    "def get_device():\n",
    "    \"\"\" Use CUDA or MPS if available, otherwise use CPU \"\"\"\n",
    "    if torch.cuda.is_available():\n",
    "        return torch.device('cuda')\n",
    "    elif torch.backends.mps.is_available():\n",
    "        return torch.device('mps')\n",
    "    else:\n",
    "        return torch.device('cpu')"
   ]
  },
  {
   "cell_type": "code",
   "execution_count": 3,
   "metadata": {},
   "outputs": [],
   "source": [
    "def get_mazes(maze_size=9, num_mazes=10, gen='dfs_perc', percolation=0.0, deadend_start=True):\n",
    "    \"\"\" Generate mazes of the given size and number, \n",
    "        from the given dataset, and load to device\"\"\"\n",
    "    \n",
    "    assert maze_size % 2 == 1\n",
    "    grid_n = (maze_size + 1) // 2\n",
    "    \n",
    "    # Generate base maze dataset\n",
    "    if gen == 'dfs':\n",
    "        maze_ctor = LatticeMazeGenerators.gen_dfs\n",
    "        maze_ctor_kwargs = dict()\n",
    "    elif gen == 'dfs_perc':\n",
    "        maze_ctor = LatticeMazeGenerators.gen_dfs_percolation\n",
    "        maze_ctor_kwargs = dict(p=percolation)\n",
    "    elif gen == 'percolation':\n",
    "        maze_ctor = LatticeMazeGenerators.gen_percolation\n",
    "        maze_ctor_kwargs = dict(p=percolation)\n",
    "    endpoint_kwargs=dict(deadend_start=deadend_start, \n",
    "                         endpoints_not_equal=True,\n",
    "                         except_on_no_valid_endpoint=False)\n",
    "\n",
    "    base_dataset = MazeDataset.from_config(\n",
    "        MazeDatasetConfig(\n",
    "            name='test',\n",
    "            grid_n=grid_n,\n",
    "            n_mazes=num_mazes,\n",
    "            seed=42,\n",
    "            maze_ctor=maze_ctor, \n",
    "            maze_ctor_kwargs=maze_ctor_kwargs,\n",
    "            endpoint_kwargs=endpoint_kwargs\n",
    "        ),\n",
    "        gen_parallel = True,\n",
    "        local_base_path='data/maze_dataset/',\n",
    "    )\n",
    "\n",
    "    # Print information about base_dataset object\n",
    "    cfg = base_dataset.cfg\n",
    "    mazes = base_dataset.mazes\n",
    "    print(f'{cfg = }')\n",
    "    print(f'{len(mazes) = }')\n",
    "    print(f\"{['M' if m is not None else 'N' for m in mazes]}\")\n",
    "\n",
    "    # Generate rasterized maze dataset\n",
    "    dataset = RasterizedMazeDataset.from_base_MazeDataset(\n",
    "        base_dataset=base_dataset,\n",
    "        added_params=dict(\n",
    "            remove_isolated_cells=True,\n",
    "            extend_pixels=True, # maps from 1x1 to 2x2 pixels and adds 3 padding\n",
    "        )\n",
    "    )\n",
    "\n",
    "    dataset = dataset.get_batch(idxs=None)\n",
    "\n",
    "    # Get inputs\n",
    "    inputs = dataset[0,:,:,:]\n",
    "    inputs = inputs / 255.0\n",
    "    inputs = inputs.permute(0, 3, 1, 2)\n",
    "    inputs = inputs.float().detach().to(get_device(), dtype=torch.float32)\n",
    "\n",
    "    # Get solutions\n",
    "    solutions = dataset[1,:,:, :]\n",
    "    solutions = solutions / 255.0\n",
    "    solutions = solutions.permute(0, 3, 1, 2)\n",
    "    solutions, _ = torch.max(solutions, dim=1)\n",
    "    solutions = solutions.float().detach().to(get_device(), dtype=torch.float32) \n",
    "\n",
    "    return inputs, solutions"
   ]
  },
  {
   "cell_type": "code",
   "execution_count": 4,
   "metadata": {},
   "outputs": [
    {
     "name": "stdout",
     "output_type": "stream",
     "text": [
      "cfg = MazeDatasetConfig(name='test', seq_len_min=1, seq_len_max=512, seed=42, applied_filters=[], grid_n=5, n_mazes=10, maze_ctor=<function LatticeMazeGenerators.gen_dfs_percolation at 0x000001E513B11360>, maze_ctor_kwargs={'p': 0.5}, endpoint_kwargs={'deadend_start': True, 'endpoints_not_equal': True, 'except_on_no_valid_endpoint': False})\n",
      "len(mazes) = 10\n",
      "['M', 'M', 'N', 'M', 'N', 'M', 'N', 'M', 'M', 'N']\n"
     ]
    },
    {
     "ename": "AttributeError",
     "evalue": "'NoneType' object has no attribute 'as_pixels'",
     "output_type": "error",
     "traceback": [
      "\u001b[1;31m---------------------------------------------------------------------------\u001b[0m",
      "\u001b[1;31mAttributeError\u001b[0m                            Traceback (most recent call last)",
      "Cell \u001b[1;32mIn[4], line 3\u001b[0m\n\u001b[0;32m      1\u001b[0m \u001b[38;5;66;03m# Create percolated maze\u001b[39;00m\n\u001b[1;32m----> 3\u001b[0m inputs, solutions \u001b[38;5;241m=\u001b[39m \u001b[43mget_mazes\u001b[49m\u001b[43m(\u001b[49m\n\u001b[0;32m      4\u001b[0m \u001b[43m    \u001b[49m\u001b[43mmaze_size\u001b[49m\u001b[38;5;241;43m=\u001b[39;49m\u001b[38;5;241;43m9\u001b[39;49m\u001b[43m,\u001b[49m\u001b[43m \u001b[49m\n\u001b[0;32m      5\u001b[0m \u001b[43m    \u001b[49m\u001b[43mnum_mazes\u001b[49m\u001b[38;5;241;43m=\u001b[39;49m\u001b[38;5;241;43m10\u001b[39;49m\u001b[43m,\u001b[49m\n\u001b[0;32m      6\u001b[0m \u001b[43m    \u001b[49m\u001b[43mpercolation\u001b[49m\u001b[38;5;241;43m=\u001b[39;49m\u001b[38;5;241;43m0.5\u001b[39;49m\u001b[43m,\u001b[49m\n\u001b[0;32m      7\u001b[0m \u001b[43m    \u001b[49m\u001b[43mdeadend_start\u001b[49m\u001b[38;5;241;43m=\u001b[39;49m\u001b[38;5;28;43;01mTrue\u001b[39;49;00m\u001b[43m)\u001b[49m\n",
      "Cell \u001b[1;32mIn[3], line 52\u001b[0m, in \u001b[0;36mget_mazes\u001b[1;34m(maze_size, num_mazes, gen, percolation, deadend_start)\u001b[0m\n\u001b[0;32m     43\u001b[0m \u001b[38;5;66;03m# Generate rasterized maze dataset\u001b[39;00m\n\u001b[0;32m     44\u001b[0m dataset \u001b[38;5;241m=\u001b[39m RasterizedMazeDataset\u001b[38;5;241m.\u001b[39mfrom_base_MazeDataset(\n\u001b[0;32m     45\u001b[0m     base_dataset\u001b[38;5;241m=\u001b[39mbase_dataset,\n\u001b[0;32m     46\u001b[0m     added_params\u001b[38;5;241m=\u001b[39m\u001b[38;5;28mdict\u001b[39m(\n\u001b[1;32m   (...)\u001b[0m\n\u001b[0;32m     49\u001b[0m     )\n\u001b[0;32m     50\u001b[0m )\n\u001b[1;32m---> 52\u001b[0m dataset \u001b[38;5;241m=\u001b[39m \u001b[43mdataset\u001b[49m\u001b[38;5;241;43m.\u001b[39;49m\u001b[43mget_batch\u001b[49m\u001b[43m(\u001b[49m\u001b[43midxs\u001b[49m\u001b[38;5;241;43m=\u001b[39;49m\u001b[38;5;28;43;01mNone\u001b[39;49;00m\u001b[43m)\u001b[49m\n\u001b[0;32m     54\u001b[0m \u001b[38;5;66;03m# Get inputs\u001b[39;00m\n\u001b[0;32m     55\u001b[0m inputs \u001b[38;5;241m=\u001b[39m dataset[\u001b[38;5;241m0\u001b[39m,:,:,:]\n",
      "File \u001b[1;32mc:\\Users\\brand\\Documents\\maze-dataset\\maze_dataset\\dataset\\rasterized.py:136\u001b[0m, in \u001b[0;36mRasterizedMazeDataset.get_batch\u001b[1;34m(self, idxs)\u001b[0m\n\u001b[0;32m    134\u001b[0m inputs: \u001b[38;5;28mlist\u001b[39m[Float[torch\u001b[38;5;241m.\u001b[39mTensor, \u001b[38;5;124m\"\u001b[39m\u001b[38;5;124mx y rgb=3\u001b[39m\u001b[38;5;124m\"\u001b[39m]]\n\u001b[0;32m    135\u001b[0m targets: \u001b[38;5;28mlist\u001b[39m[Float[torch\u001b[38;5;241m.\u001b[39mTensor, \u001b[38;5;124m\"\u001b[39m\u001b[38;5;124mx y rgb=3\u001b[39m\u001b[38;5;124m\"\u001b[39m]]\n\u001b[1;32m--> 136\u001b[0m inputs, targets \u001b[38;5;241m=\u001b[39m \u001b[38;5;28mzip\u001b[39m(\u001b[38;5;241m*\u001b[39m[\u001b[38;5;28mself\u001b[39m[i] \u001b[38;5;28;01mfor\u001b[39;00m i \u001b[38;5;129;01min\u001b[39;00m idxs])\n\u001b[0;32m    138\u001b[0m \u001b[38;5;28;01mreturn\u001b[39;00m torch\u001b[38;5;241m.\u001b[39mstack([torch\u001b[38;5;241m.\u001b[39mstack(inputs), torch\u001b[38;5;241m.\u001b[39mstack(targets)])\n",
      "File \u001b[1;32mc:\\Users\\brand\\Documents\\maze-dataset\\maze_dataset\\dataset\\rasterized.py:136\u001b[0m, in \u001b[0;36m<listcomp>\u001b[1;34m(.0)\u001b[0m\n\u001b[0;32m    134\u001b[0m inputs: \u001b[38;5;28mlist\u001b[39m[Float[torch\u001b[38;5;241m.\u001b[39mTensor, \u001b[38;5;124m\"\u001b[39m\u001b[38;5;124mx y rgb=3\u001b[39m\u001b[38;5;124m\"\u001b[39m]]\n\u001b[0;32m    135\u001b[0m targets: \u001b[38;5;28mlist\u001b[39m[Float[torch\u001b[38;5;241m.\u001b[39mTensor, \u001b[38;5;124m\"\u001b[39m\u001b[38;5;124mx y rgb=3\u001b[39m\u001b[38;5;124m\"\u001b[39m]]\n\u001b[1;32m--> 136\u001b[0m inputs, targets \u001b[38;5;241m=\u001b[39m \u001b[38;5;28mzip\u001b[39m(\u001b[38;5;241m*\u001b[39m[\u001b[38;5;28;43mself\u001b[39;49m\u001b[43m[\u001b[49m\u001b[43mi\u001b[49m\u001b[43m]\u001b[49m \u001b[38;5;28;01mfor\u001b[39;00m i \u001b[38;5;129;01min\u001b[39;00m idxs])\n\u001b[0;32m    138\u001b[0m \u001b[38;5;28;01mreturn\u001b[39;00m torch\u001b[38;5;241m.\u001b[39mstack([torch\u001b[38;5;241m.\u001b[39mstack(inputs), torch\u001b[38;5;241m.\u001b[39mstack(targets)])\n",
      "File \u001b[1;32mc:\\Users\\brand\\Documents\\maze-dataset\\maze_dataset\\dataset\\rasterized.py:121\u001b[0m, in \u001b[0;36mRasterizedMazeDataset.__getitem__\u001b[1;34m(self, idx)\u001b[0m\n\u001b[0;32m    117\u001b[0m \u001b[38;5;28;01mdef\u001b[39;00m \u001b[38;5;21m__getitem__\u001b[39m(\u001b[38;5;28mself\u001b[39m, idx: \u001b[38;5;28mint\u001b[39m) \u001b[38;5;241m-\u001b[39m\u001b[38;5;241m>\u001b[39m Float[torch\u001b[38;5;241m.\u001b[39mTensor, \u001b[38;5;124m\"\u001b[39m\u001b[38;5;124mitem in/tgt=2 x y rgb=3\u001b[39m\u001b[38;5;124m\"\u001b[39m]:\n\u001b[0;32m    118\u001b[0m     \u001b[38;5;66;03m# get the solved maze\u001b[39;00m\n\u001b[0;32m    119\u001b[0m     solved_maze: SolvedMaze \u001b[38;5;241m=\u001b[39m \u001b[38;5;28mself\u001b[39m\u001b[38;5;241m.\u001b[39mmazes[idx]\n\u001b[1;32m--> 121\u001b[0m     \u001b[38;5;28;01mreturn\u001b[39;00m \u001b[43mprocess_maze_rasterized_input_target\u001b[49m\u001b[43m(\u001b[49m\n\u001b[0;32m    122\u001b[0m \u001b[43m        \u001b[49m\u001b[43mmaze\u001b[49m\u001b[38;5;241;43m=\u001b[39;49m\u001b[43msolved_maze\u001b[49m\u001b[43m,\u001b[49m\n\u001b[0;32m    123\u001b[0m \u001b[43m        \u001b[49m\u001b[43mremove_isolated_cells\u001b[49m\u001b[38;5;241;43m=\u001b[39;49m\u001b[38;5;28;43mself\u001b[39;49m\u001b[38;5;241;43m.\u001b[39;49m\u001b[43mcfg\u001b[49m\u001b[38;5;241;43m.\u001b[39;49m\u001b[43mremove_isolated_cells\u001b[49m\u001b[43m,\u001b[49m\n\u001b[0;32m    124\u001b[0m \u001b[43m        \u001b[49m\u001b[43mextend_pixels\u001b[49m\u001b[38;5;241;43m=\u001b[39;49m\u001b[38;5;28;43mself\u001b[39;49m\u001b[38;5;241;43m.\u001b[39;49m\u001b[43mcfg\u001b[49m\u001b[38;5;241;43m.\u001b[39;49m\u001b[43mextend_pixels\u001b[49m\u001b[43m,\u001b[49m\n\u001b[0;32m    125\u001b[0m \u001b[43m        \u001b[49m\u001b[43mendpoints_as_open\u001b[49m\u001b[38;5;241;43m=\u001b[39;49m\u001b[38;5;28;43mself\u001b[39;49m\u001b[38;5;241;43m.\u001b[39;49m\u001b[43mcfg\u001b[49m\u001b[38;5;241;43m.\u001b[39;49m\u001b[43mendpoints_as_open\u001b[49m\u001b[43m,\u001b[49m\n\u001b[0;32m    126\u001b[0m \u001b[43m    \u001b[49m\u001b[43m)\u001b[49m\n",
      "File \u001b[1;32mc:\\Users\\brand\\Documents\\maze-dataset\\maze_dataset\\dataset\\rasterized.py:76\u001b[0m, in \u001b[0;36mprocess_maze_rasterized_input_target\u001b[1;34m(maze, remove_isolated_cells, extend_pixels, endpoints_as_open)\u001b[0m\n\u001b[0;32m     69\u001b[0m \u001b[38;5;28;01mdef\u001b[39;00m \u001b[38;5;21mprocess_maze_rasterized_input_target\u001b[39m(\n\u001b[0;32m     70\u001b[0m     maze: SolvedMaze,\n\u001b[0;32m     71\u001b[0m     remove_isolated_cells: \u001b[38;5;28mbool\u001b[39m \u001b[38;5;241m=\u001b[39m \u001b[38;5;28;01mTrue\u001b[39;00m,\n\u001b[1;32m   (...)\u001b[0m\n\u001b[0;32m     74\u001b[0m ) \u001b[38;5;241m-\u001b[39m\u001b[38;5;241m>\u001b[39m Float[torch\u001b[38;5;241m.\u001b[39mTensor, \u001b[38;5;124m\"\u001b[39m\u001b[38;5;124min/tgt=2 x y rgb=3\u001b[39m\u001b[38;5;124m\"\u001b[39m]:\n\u001b[0;32m     75\u001b[0m     \u001b[38;5;66;03m# problem and solution mazes\u001b[39;00m\n\u001b[1;32m---> 76\u001b[0m     maze_pixels: PixelGrid \u001b[38;5;241m=\u001b[39m \u001b[43mmaze\u001b[49m\u001b[38;5;241;43m.\u001b[39;49m\u001b[43mas_pixels\u001b[49m(show_endpoints\u001b[38;5;241m=\u001b[39m\u001b[38;5;28;01mTrue\u001b[39;00m, show_solution\u001b[38;5;241m=\u001b[39m\u001b[38;5;28;01mTrue\u001b[39;00m)\n\u001b[0;32m     77\u001b[0m     problem_maze: PixelGrid \u001b[38;5;241m=\u001b[39m maze_pixels\u001b[38;5;241m.\u001b[39mcopy()\n\u001b[0;32m     78\u001b[0m     solution_maze: PixelGrid \u001b[38;5;241m=\u001b[39m maze_pixels\u001b[38;5;241m.\u001b[39mcopy()\n",
      "\u001b[1;31mAttributeError\u001b[0m: 'NoneType' object has no attribute 'as_pixels'"
     ]
    }
   ],
   "source": [
    "# Create percolated maze\n",
    "\n",
    "inputs, solutions = get_mazes(\n",
    "    maze_size=9, \n",
    "    num_mazes=10,\n",
    "    percolation=0.5,\n",
    "    deadend_start=True)"
   ]
  }
 ],
 "metadata": {
  "kernelspec": {
   "display_name": ".venv",
   "language": "python",
   "name": "python3"
  },
  "language_info": {
   "codemirror_mode": {
    "name": "ipython",
    "version": 3
   },
   "file_extension": ".py",
   "mimetype": "text/x-python",
   "name": "python",
   "nbconvert_exporter": "python",
   "pygments_lexer": "ipython3",
   "version": "3.10.11"
  }
 },
 "nbformat": 4,
 "nbformat_minor": 2
}
